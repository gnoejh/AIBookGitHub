{
 "cells": [
  {
   "cell_type": "markdown",
   "metadata": {},
   "source": [
    "<a href=\"https://colab.research.google.com/github/gnoejh/ict1022/blob/main/Components/attention_multihead.ipynb\" target=\"_parent\"><img src=\"https://colab.research.google.com/assets/colab-badge.svg\" alt=\"Open In Colab\"/></a>"
   ]
  },
  {
   "cell_type": "markdown",
   "metadata": {},
   "source": [
    "# Components of Neural Networks"
   ]
  },
  {
   "cell_type": "markdown",
   "metadata": {},
   "source": [
    "## Multi-Head Attention\n",
    "\n",
    "Multi-head attention allows the model to jointly attend to information from different representation subspaces at different positions. Instead of performing a single attention function, multi-head attention performs attention multiple times in parallel, then combines the results.\n",
    "\n",
    "### Mathematical Formulation\n",
    "\n",
    "Given an input sequence $X \\in \\mathbb{R}^{n \\times d}$, multi-head attention with $h$ heads is computed as follows:\n",
    "\n",
    "1. **For each head $i$ from $1$ to $h$**:\n",
    "   - Compute projection matrices for queries, keys, and values:\n",
    "     $$Q_i = XW_Q^i, \\quad K_i = XW_K^i, \\quad V_i = XW_V^i$$\n",
    "     where $W_Q^i \\in \\mathbb{R}^{d \\times d_k}$, $W_K^i \\in \\mathbb{R}^{d \\times d_k}$, and $W_V^i \\in \\mathbb{R}^{d \\times d_v}$ are learned parameters, with $d_k = d_v = d/h$.\n",
    "\n",
    "   - Compute the attention output for head $i$:\n",
    "     $$\\text{head}_i = \\text{Attention}(Q_i, K_i, V_i) = \\text{softmax}\\left(\\frac{Q_iK_i^T}{\\sqrt{d_k}}\\right)V_i$$\n",
    "\n",
    "2. **Concatenate the outputs of all heads**:\n",
    "   $$\\text{Concat}(\\text{head}_1, \\text{head}_2, \\ldots, \\text{head}_h) \\in \\mathbb{R}^{n \\times (h \\cdot d_v)}$$\n",
    "\n",
    "\n",
    "   $$\\text{MultiHead}(Q, K, V) = \\text{Concat}(\\text{head}_1, \\text{head}_2, \\ldots, \\text{head}_h)W_O$$\n",
    "   where $W_O \\in \\mathbb{R}^{(h \\cdot d_v) \\times d}$ is a learned parameter.\n",
    "\n",
    "```mermaid\n",
    "graph TB\n",
    "    X[Input X] --> |WQ1| Q1[Q1]\n",
    "    X --> |WK1| K1[K1]\n",
    "    X --> |WV1| V1[V1]\n",
    "        Xkv --> |Wk_decoder|Kd[Decoder K]\n",
    "        Xkv --> |Wv_decoder|Vd[Decoder V]\n",
    "        D[Decoder Input Xq] --> |Wq_decoder|Qd[Decoder Q]\n",
    "        Qd & Kd & Vd --> A[Cross-Attention]\n",
    "    X --> |WV2| V2[V2]\n",
    "    Q2 & K2 & V2 --> A2[Head 2]\n",
    "    \n",
    "    X --> |WQh| Qh[Qh]\n",
    "    X --> |WKh| Kh[Kh]\n",
    "    X --> |WVh| Vh[Vh]\n",
    "    Qh & Kh & Vh --> Ah[Head h]\n",
    "    \n",
    "    A1 & A2 & Ah --> C[Concatenate]\n",
    "    C --> |WO| O[Output]\n",
    "```"
   ]
  },
  {
   "cell_type": "markdown",
   "metadata": {},
   "source": [
    "### Multi-Head Attention Example\n",
    "\n",
    "Let's consider a simplified example with input $X \\in \\mathbb{R}^{3 \\times 4}$ and $h=2$ heads:\n",
    "\n",
    "$$X = \\begin{bmatrix} 1 & 0 & 1 & 0 \\\\ 0 & 1 & 0 & 1 \\\\ 1 & 1 & 1 & 1 \\end{bmatrix}$$\n",
    "\n",
    "We'll use simplified weight matrices for each head, with $d_k = d_v = 2$:\n",
    "\n",
    "**Head 1**:\n",
    "$$W_Q^1 = \\begin{bmatrix} 1 & 0 \\\\ 0 & 0 \\\\ 0 & 1 \\\\ 0 & 0 \\end{bmatrix}, \\quad W_K^1 = \\begin{bmatrix} 1 & 0 \\\\ 0 & 0 \\\\ 0 & 1 \\\\ 0 & 0 \\end{bmatrix}, \\quad W_V^1 = \\begin{bmatrix} 1 & 0 \\\\ 0 & 0 \\\\ 0 & 1 \\\\ 0 & 0 \\end{bmatrix}$$\n",
    "\n",
    "**Head 2**:\n",
    "$$W_Q^2 = \\begin{bmatrix} 0 & 0 \\\\ 1 & 0 \\\\ 0 & 0 \\\\ 0 & 1 \\end{bmatrix}, \\quad W_K^2 = \\begin{bmatrix} 0 & 0 \\\\ 1 & 0 \\\\ 0 & 0 \\\\ 0 & 1 \\end{bmatrix}, \\quad W_V^2 = \\begin{bmatrix} 0 & 0 \\\\ 1 & 0 \\\\ 0 & 0 \\\\ 0 & 1 \\end{bmatrix}$$\n",
    "\n",
    "And output projection matrix $W_O = \\begin{bmatrix} 1 & 0 & 0 & 0 \\\\ 0 & 1 & 0 & 0 \\\\ 0 & 0 & 1 & 0 \\\\ 0 & 0 & 0 & 1 \\end{bmatrix}$\n",
    "\n",
    "1. **Compute for Head 1**:\n",
    "\n",
    "   $$Q_1 = XW_Q^1 = \\begin{bmatrix} 1 & 0 \\\\ 0 & 1 \\\\ 1 & 1 \\end{bmatrix}$$\n",
    "   $$K_1 = XW_K^1 = \\begin{bmatrix} 1 & 0 \\\\ 0 & 1 \\\\ 1 & 1 \\end{bmatrix}$$\n",
    "   $$V_1 = XW_V^1 = \\begin{bmatrix} 1 & 0 \\\\ 0 & 1 \\\\ 1 & 1 \\end{bmatrix}$$\n",
    "\n",
    "   $$\\text{head}_1 = \\text{Attention}(Q_1, K_1, V_1) = \\begin{bmatrix} 0.65 & 0.35 \\\\ 0.35 & 0.65 \\\\ 0.5 & 0.5 \\end{bmatrix}$$\n",
    "\n",
    "2. **Compute for Head 2**:\n",
    "\n",
    "   $$Q_2 = XW_Q^2 = \\begin{bmatrix} 0 & 0 \\\\ 1 & 1 \\\\ 1 & 1 \\end{bmatrix}$$\n",
    "   $$K_2 = XW_K^2 = \\begin{bmatrix} 0 & 0 \\\\ 1 & 1 \\\\ 1 & 1 \\end{bmatrix}$$\n",
    "   $$V_2 = XW_V^2 = \\begin{bmatrix} 0 & 0 \\\\ 1 & 1 \\\\ 1 & 1 \\end{bmatrix}$$\n",
    "\n",
    "   $$\\text{head}_2 = \\text{Attention}(Q_2, K_2, V_2) = \\begin{bmatrix} 0.33 & 0.33 \\\\ 0.5 & 0.5 \\\\ 0.5 & 0.5 \\end{bmatrix}$$\n",
    "\n",
    "3. **Concatenate the outputs**:\n",
    "   $$\\text{Concat}(\\text{head}_1, \\text{head}_2) = \\begin{bmatrix} 0.65 & 0.35 & 0.33 & 0.33 \\\\ 0.35 & 0.65 & 0.5 & 0.5 \\\\ 0.5 & 0.5 & 0.5 & 0.5 \\end{bmatrix}$$\n",
    "\n",
    "4. **Apply the output projection**:\n",
    "   $$\\text{MultiHead}(Q, K, V) = \\text{Concat}(\\text{head}_1, \\text{head}_2)W_O = \\begin{bmatrix} 0.65 & 0.35 & 0.33 & 0.33 \\\\ 0.35 & 0.65 & 0.5 & 0.5 \\\\ 0.5 & 0.5 & 0.5 & 0.5 \\end{bmatrix}$$\n",
    "\n",
    "The final output captures different aspects of the relationships between tokens through multiple attention heads, providing a richer representation than single-head attention."
   ]
  },
  {
   "cell_type": "markdown",
   "metadata": {},
   "source": [
    "## PyTorch Implementation\n",
    "\n",
    "Let's implement the multi-head attention mechanism using PyTorch:"
   ]
  },
  {
   "cell_type": "code",
   "execution_count": 4,
   "metadata": {},
   "outputs": [],
   "source": [
    "import torch\n",
    "import torch.nn as nn\n",
    "import torch.nn.functional as F\n",
    "import numpy as np\n",
    "import matplotlib.pyplot as plt\n",
    "\n",
    "class MultiHeadAttention(nn.Module):\n",
    "    def __init__(self, d_model, num_heads):\n",
    "        super(MultiHeadAttention, self).__init__()\n",
    "        assert d_model % num_heads == 0, \"d_model must be divisible by num_heads\"\n",
    "        \n",
    "        self.d_model = d_model\n",
    "        self.num_heads = num_heads\n",
    "        self.d_k = d_model // num_heads  # Dimension of each head\n",
    "        \n",
    "        # Linear projections for Q, K, V for all heads (performed in batch)\n",
    "        self.W_q = nn.Linear(d_model, d_model)\n",
    "        self.W_k = nn.Linear(d_model, d_model)\n",
    "        self.W_v = nn.Linear(d_model, d_model)\n",
    "        self.W_o = nn.Linear(d_model, d_model)  # Output projection\n",
    "        \n",
    "    def split_heads(self, x, batch_size):\n",
    "        \"\"\"\n",
    "        Split the last dimension into (num_heads, d_k)\n",
    "        Reshape from (batch_size, seq_length, d_model) to (batch_size, num_heads, seq_length, d_k)\n",
    "        \"\"\"\n",
    "        x = x.view(batch_size, -1, self.num_heads, self.d_k)\n",
    "        return x.permute(0, 2, 1, 3)\n",
    "    \n",
    "    def forward(self, q, k, v, mask=None):\n",
    "        batch_size = q.size(0)\n",
    "        \n",
    "        # Linear projections\n",
    "        q = self.W_q(q)  # (batch_size, seq_len_q, d_model)\n",
    "        k = self.W_k(k)  # (batch_size, seq_len_k, d_model)\n",
    "        v = self.W_v(v)  # (batch_size, seq_len_v, d_model)\n",
    "        \n",
    "        # Split heads\n",
    "        q = self.split_heads(q, batch_size)  # (batch_size, num_heads, seq_len_q, d_k)\n",
    "        k = self.split_heads(k, batch_size)  # (batch_size, num_heads, seq_len_k, d_k)\n",
    "        v = self.split_heads(v, batch_size)  # (batch_size, num_heads, seq_len_v, d_k)\n",
    "        \n",
    "        # Scaled dot-product attention\n",
    "        scores = torch.matmul(q, k.transpose(-2, -1)) / np.sqrt(self.d_k)\n",
    "        \n",
    "        if mask is not None:\n",
    "            # Apply mask (broadcast across batch and heads)\n",
    "            scores = scores.masked_fill(mask == 0, -1e9)\n",
    "        \n",
    "        attention_weights = F.softmax(scores, dim=-1)\n",
    "        context = torch.matmul(attention_weights, v)  # (batch_size, num_heads, seq_len_q, d_k)\n",
    "        \n",
    "        # Combine heads\n",
    "        context = context.permute(0, 2, 1, 3).contiguous()  # (batch_size, seq_len_q, num_heads, d_k)\n",
    "        context = context.view(batch_size, -1, self.d_model)  # (batch_size, seq_len_q, d_model)\n",
    "        \n",
    "        # Final linear projection\n",
    "        output = self.W_o(context)  # (batch_size, seq_len_q, d_model)\n",
    "        \n",
    "        return output, attention_weights"
   ]
  },
  {
   "cell_type": "markdown",
   "metadata": {},
   "source": [
    "## Example Usage\n",
    "\n",
    "Let's demonstrate the usage of our multi-head attention implementation with a simple example:"
   ]
  },
  {
   "cell_type": "code",
   "execution_count": 5,
   "metadata": {},
   "outputs": [
    {
     "name": "stdout",
     "output_type": "stream",
     "text": [
      "Input shape: torch.Size([2, 4, 8])\n",
      "Output shape: torch.Size([2, 4, 8])\n",
      "Attention weights shape: torch.Size([2, 2, 4, 4])\n"
     ]
    }
   ],
   "source": [
    "# Set up parameters\n",
    "batch_size = 2\n",
    "seq_length = 4\n",
    "d_model = 8\n",
    "num_heads = 2\n",
    "\n",
    "# Create random input tensors\n",
    "x = torch.randn(batch_size, seq_length, d_model)\n",
    "\n",
    "# Initialize multi-head attention\n",
    "multi_head_attn = MultiHeadAttention(d_model, num_heads)\n",
    "\n",
    "# Forward pass (self-attention)\n",
    "output, attention_weights = multi_head_attn(x, x, x)\n",
    "\n",
    "print(f\"Input shape: {x.shape}\")\n",
    "print(f\"Output shape: {output.shape}\")\n",
    "print(f\"Attention weights shape: {attention_weights.shape}\")"
   ]
  },
  {
   "cell_type": "markdown",
   "metadata": {},
   "source": [
    "## Visualizing Attention Weights\n",
    "\n",
    "Let's visualize the attention weights from one of our attention heads:"
   ]
  },
  {
   "cell_type": "code",
   "execution_count": 6,
   "metadata": {},
   "outputs": [
    {
     "data": {
      "image/png": "[encoded data removed]",
      "text/plain": [
       "<Figure size 800x600 with 2 Axes>"
      ]
     },
     "metadata": {},
     "output_type": "display_data"
    }
   ],
   "source": [
    "def plot_attention(attention_weights, head=0):\n",
    "    \"\"\"Plot attention weights for a specific head.\"\"\"\n",
    "    fig, ax = plt.subplots(figsize=(8, 6))\n",
    "    \n",
    "    # Get attention weights for the first batch item and specified head\n",
    "    attn = attention_weights[0, head].detach().numpy()\n",
    "    \n",
    "    # Plot as heatmap\n",
    "    im = ax.imshow(attn, cmap='viridis')\n",
    "    \n",
    "    # Add colorbar\n",
    "    cbar = ax.figure.colorbar(im, ax=ax)\n",
    "    \n",
    "    # Set labels\n",
    "    ax.set_title(f\"Attention weights (Head {head})\")\n",
    "    ax.set_xlabel(\"Key position\")\n",
    "    ax.set_ylabel(\"Query position\")\n",
    "    \n",
    "    # Add annotations\n",
    "    for i in range(attn.shape[0]):\n",
    "        for j in range(attn.shape[1]):\n",
    "            text = ax.text(j, i, f\"{attn[i, j]:.2f}\",\n",
    "                           ha=\"center\", va=\"center\", color=\"white\" if attn[i, j] < 0.5 else \"black\")\n",
    "    \n",
    "    plt.tight_layout()\n",
    "    return fig\n",
    "\n",
    "# Plot attention weights for head 0\n",
    "fig = plot_attention(attention_weights, head=0)\n",
    "plt.show()"
   ]
  },
  {
   "cell_type": "markdown",
   "metadata": {},
   "source": [
    "## Advantages of Multi-Head Attention\n",
    "\n",
    "1. **Parallel processing**: Multiple attention heads can process information in parallel, allowing the model to capture different aspects of the input simultaneously.\n",
    "\n",
    "2. **Different representation subspaces**: Each head can focus on different parts of the input space, allowing the model to attend to information from different representation subspaces.\n",
    "\n",
    "3. **Capturing various relationships**: Different attention heads can learn to represent different types of relationships between tokens (e.g., syntactic dependencies, semantic relationships).\n",
    "\n",
    "4. **Improved performance**: Multi-head attention generally performs better than single-head attention as it can capture more complex patterns in the data.\n",
    "\n",
    "## Applications in Transformer Models\n",
    "\n",
    "Multi-head attention is a core component of transformer architectures, used in:\n",
    "\n",
    "1. **Self-attention**: Where queries, keys, and values come from the same sequence\n",
    "2. **Cross-attention**: Where queries come from one sequence (e.g., decoder), and keys and values from another (e.g., encoder)\n",
    "3. **Encoder-decoder attention**: Used in the decoder to attend to the encoder's output\n",
    "\n",
    "These attention mechanisms have revolutionized natural language processing and are the foundation of models like BERT, GPT, and T5."
   ]
  }
 ],
 "metadata": {
  "kernelspec": {
   "display_name": "py312sb3",
   "language": "python",
   "name": "python3"
  },
  "language_info": {
   "codemirror_mode": {
    "name": "ipython",
    "version": 3
   },
   "file_extension": ".py",
   "mimetype": "text/x-python",
   "name": "python",
   "nbconvert_exporter": "python",
   "pygments_lexer": "ipython3",
   "version": "3.12.3"
  }
 },
 "nbformat": 4,
 "nbformat_minor": 2
}
