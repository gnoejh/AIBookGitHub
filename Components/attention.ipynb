{
 "cells": [
  {
   "cell_type": "markdown",
   "metadata": {},
   "source": [
    "<a href=\"https://colab.research.google.com/github/gnoejh/ict1022/blob/main/Components/attention.ipynb\" target=\"_parent\"><img src=\"https://colab.research.google.com/assets/colab-badge.svg\" alt=\"Open In Colab\"/></a>"
   ]
  },
  {
   "cell_type": "markdown",
   "metadata": {},
   "source": [
    "# Components of Neural Networks"
   ]
  },
  {
   "cell_type": "markdown",
   "metadata": {},
   "source": [
    "## Self-Attention"
   ]
  },
  {
   "cell_type": "markdown",
   "metadata": {},
   "source": [
    "Self-attention is a mechanism that allows each position in a sequence to attend to all other positions. It starts with an input sequence $X \\in \\mathbb{R}^{n \\times d}$, where $n$ is the number of tokens and $d$ is the embedding dimension. The matrices $Q$, $K$, and $V$ are computed as follows:\n",
    "\n",
    "$$Q = XW_Q \\in \\mathbb{R}^{n \\times k}$$\n",
    "$$K = XW_K \\in \\mathbb{R}^{n \\times k}$$\n",
    "$$V = XW_V$$\n",
    "\n",
    "where $W_Q \\in \\mathbb{R}^{d \\times k}$, $W_K \\in \\mathbb{R}^{d \\times k}$, and $W_V \\in \\mathbb{R}^{d \\times v}$ are learned weight matrices. \n",
    "\n",
    "The attention mechanism is defined mathematically as:\n",
    "\n",
    "$$\\text{Attention}(Q, K, V) = \\text{softmax}\\left(\\frac{QK^T}{\\sqrt{k}}\\right)V$$\n",
    "\n",
    "Where the product $QK^T \\in \\mathbb{R}^{n \\times n}$ gives us the raw attention scores, which are then scaled by $\\sqrt{k}$, passed through a softmax function to get the attention weights, and finally multiplied by $V$ to get the output.\n",
    "\n",
    "```mermaid\n",
    "graph TB\n",
    "    X[Input Sequence X] -->|WQ| Q[Q Matrix]\n",
    "    X -->|WK| K[K Matrix]\n",
    "    X -->|WV| V[V Matrix]\n",
    "    Q & K --> |QK^T| S[Scaled Attention]\n",
    "    S --> |softmax| W[Attention Weights]\n",
    "    W & V --> O[Output]\n",
    "```"
   ]
  },
  {
   "cell_type": "markdown",
   "metadata": {},
   "source": [
    "### Self-Attention with Example\n",
    "\n",
    "Consider an input sequence $X$ represented as a $3 \\times 4$ matrix:\n",
    "\n",
    "$$X = \\begin{bmatrix} 1 & 0 & 1 & 0 \\\\ 0 & 1 & 0 & 1 \\\\ 1 & 1 & 1 & 1 \\end{bmatrix} \\in \\mathbb{R}^{3 \\times 4}$$\n",
    "\n",
    "Assume the weight matrices $W_Q$, $W_K$, and $W_V$ are given as:\n",
    "\n",
    "$$W_Q = \\begin{bmatrix} 1 & 0 \\\\ 0 & 1 \\\\ 1 & 0 \\\\ 0 & 1 \\end{bmatrix} \\in \\mathbb{R}^{4 \\times 2}, \\quad W_K = \\begin{bmatrix} 0 & 1 \\\\ 1 & 0 \\\\ 0 & 1 \\\\ 1 & 0 \\end{bmatrix} \\in \\mathbb{R}^{4 \\times 2}, \\quad W_V = \\begin{bmatrix} 1 & 0 \\\\ 0 & 1 \\\\ 1 & 0 \\\\ 0 & 1 \\end{bmatrix} \\in \\mathbb{R}^{4 \\times 2}$$\n",
    "\n",
    "Then, the matrices $Q$, $K$, and $V$ are computed as:\n",
    "\n",
    "$$Q = XW_Q = \\begin{bmatrix} 2 & 0 \\\\ 0 & 2 \\\\ 2 & 2 \\end{bmatrix} \\in \\mathbb{R}^{3 \\times 2}, \\quad K = XW_K = \\begin{bmatrix} 0 & 2 \\\\ 2 & 0 \\\\ 2 & 2 \\end{bmatrix} \\in \\mathbb{R}^{3 \\times 2}, \\quad V = XW_V = \\begin{bmatrix} 2 & 0 \\\\ 0 & 2 \\\\ 2 & 2 \\end{bmatrix} \\in \\mathbb{R}^{3 \\times 2}$$\n",
    "\n",
    "The attention scores are computed as:\n",
    "\n",
    "\n",
    "Where $d_k$ is the dimension of the key vectors (in this case, 2)."
   ]
  },
  {
   "cell_type": "markdown",
   "metadata": {},
   "source": [
    "### Computation of Attention Scores\n",
    "\n",
    "Using the matrices $Q$, $K$, and $V$ computed above, we can calculate the attention scores as follows:\n",
    "\n",
    "$$QK^T = \\begin{bmatrix} 2 & 0 \\\\ 0 & 2 \\\\ 2 & 2 \\end{bmatrix} \\begin{bmatrix} 0 & 2 \\\\ 2 & 0 \\\\ 2 & 2 \\end{bmatrix}^T = \\begin{bmatrix} 0 & 4 & 4 \\\\ 4 & 0 & 4 \\\\ 4 & 4 & 8 \\end{bmatrix}$$\n",
    "\n",
    "Next, we scale the scores by $\\sqrt{d_k}$ (which is $\\sqrt{2}$):\n",
    "\n",
    "$$\\frac{QK^T}{\\sqrt{d_k}} = \\begin{bmatrix} 0 & 4 & 4 \\\\ 4 & 0 & 4 \\\\ 4 & 4 & 8 \\end{bmatrix} \\div \\sqrt{2} = \\begin{bmatrix} 0 & 2.83 & 2.83 \\\\ 2.83 & 0 & 2.83 \\\\ 2.83 & 2.83 & 5.66 \\end{bmatrix}$$\n",
    "\n",
    "Applying the softmax function to each row, we get the attention weights:\n",
    "\n",
    "$$\\text{Attention}(Q, K, V) = \\begin{bmatrix} 0.106 & 0.447 & 0.447 \\\\ 0.447 & 0.106 & 0.447 \\\\ 0.211 & 0.211 & 0.577 \\end{bmatrix} \\begin{bmatrix} 2 & 0 \\\\ 0 & 2 \\\\ 2 & 2 \\end{bmatrix} = \\begin{bmatrix} 0.894 & 1.788 \\\\ 0.894 & 1.788 \\\\ 1.154 & 2.309 \\end{bmatrix}$$"
   ]
  },
  {
   "cell_type": "code",
   "execution_count": 9,
   "metadata": {},
   "outputs": [
    {
     "data": {
      "application/vnd.plotly.v1+json": {
       "config": {
        "plotlyServerURL": "https://plot.ly"
       },
       "data": [
        {
         "mode": "markers+text",
         "name": "X",
         "text": [
          "X1",
          "X2",
          "X3"
         ],
         "textposition": "top center",
         "type": "scatter3d",
         "x": [
          1,
          0,
          1
         ],
         "y": [
          0,
          1,
          1
         ],
         "z": [
          1,
          0,
          1
         ]
        },
        {
         "mode": "markers+text",
         "name": "V",
         "text": [
          "V1",
          "V2",
          "V3"
         ],
         "textposition": "top center",
         "type": "scatter3d",
         "x": [
          2,
          0,
          2
         ],
         "y": [
          0,
          2,
          2
         ],
         "z": [
          0,
          0,
          0
         ]
        },
        {
         "mode": "markers+text",
         "name": "Attention",
         "text": [
          "A1",
          "A2",
          "A3"
         ],
         "textposition": "top center",
         "type": "scatter3d",
         "x": [
          0.894,
          0.894,
          1.154
         ],
         "y": [
          1.788,
          1.788,
          2.309
         ],
         "z": [
          0,
          0,
          0
         ]
        }
       ],
       "layout": {
        "scene": {
         "xaxis": {
          "title": {
           "text": "X"
          }
         },
         "yaxis": {
          "title": {
           "text": "Y"
          }
         },
         "zaxis": {
          "title": {
           "text": "Z"
          }
         }
        },
        "template": {
         "data": {
          "bar": [
           {
            "error_x": {
             "color": "#2a3f5f"
            },
            "error_y": {
             "color": "#2a3f5f"
            },
            "marker": {
             "line": {
              "color": "#E5ECF6",
              "width": 0.5
             },
             "pattern": {
              "fillmode": "overlay",
              "size": 10,
              "solidity": 0.2
             }
            },
            "type": "bar"
           }
          ],
          "barpolar": [
           {
            "marker": {
             "line": {
              "color": "#E5ECF6",
              "width": 0.5
             },
             "pattern": {
              "fillmode": "overlay",
              "size": 10,
              "solidity": 0.2
             }
            },
            "type": "barpolar"
           }
          ],
          "carpet": [
           {
            "aaxis": {
             "endlinecolor": "#2a3f5f",
             "gridcolor": "white",
             "linecolor": "white",
             "minorgridcolor": "white",
             "startlinecolor": "#2a3f5f"
            },
            "baxis": {
             "endlinecolor": "#2a3f5f",
             "gridcolor": "white",
             "linecolor": "white",
             "minorgridcolor": "white",
             "startlinecolor": "#2a3f5f"
            },
            "type": "carpet"
           }
          ],
          "choropleth": [
           {
            "colorbar": {
             "outlinewidth": 0,
             "ticks": ""
            },
            "type": "choropleth"
           }
          ],
          "contour": [
           {
            "colorbar": {
             "outlinewidth": 0,
             "ticks": ""
            },
            "colorscale": [
             [
              0,
              "#0d0887"
             ],
             [
              0.1111111111111111,
              "#46039f"
             ],
             [
              0.2222222222222222,
              "#7201a8"
             ],
             [
              0.3333333333333333,
              "#9c179e"
             ],
             [
              0.4444444444444444,
              "#bd3786"
             ],
             [
              0.5555555555555556,
              "#d8576b"
             ],
             [
              0.6666666666666666,
              "#ed7953"
             ],
             [
              0.7777777777777778,
              "#fb9f3a"
             ],
             [
              0.8888888888888888,
              "#fdca26"
             ],
             [
              1,
              "#f0f921"
             ]
            ],
            "type": "contour"
           }
          ],
          "contourcarpet": [
           {
            "colorbar": {
             "outlinewidth": 0,
             "ticks": ""
            },
            "type": "contourcarpet"
           }
          ],
          "heatmap": [
           {
            "colorbar": {
             "outlinewidth": 0,
             "ticks": ""
            },
            "colorscale": [
             [
              0,
              "#0d0887"
             ],
             [
              0.1111111111111111,
              "#46039f"
             ],
             [
              0.2222222222222222,
              "#7201a8"
             ],
             [
              0.3333333333333333,
              "#9c179e"
             ],
             [
              0.4444444444444444,
              "#bd3786"
             ],
             [
              0.5555555555555556,
              "#d8576b"
             ],
             [
              0.6666666666666666,
              "#ed7953"
             ],
             [
              0.7777777777777778,
              "#fb9f3a"
             ],
             [
              0.8888888888888888,
              "#fdca26"
             ],
             [
              1,
              "#f0f921"
             ]
            ],
            "type": "heatmap"
           }
          ],
          "heatmapgl": [
           {
            "colorbar": {
             "outlinewidth": 0,
             "ticks": ""
            },
            "colorscale": [
             [
              0,
              "#0d0887"
             ],
             [
              0.1111111111111111,
              "#46039f"
             ],
             [
              0.2222222222222222,
              "#7201a8"
             ],
             [
              0.3333333333333333,
              "#9c179e"
             ],
             [
              0.4444444444444444,
              "#bd3786"
             ],
             [
              0.5555555555555556,
              "#d8576b"
             ],
             [
              0.6666666666666666,
              "#ed7953"
             ],
             [
              0.7777777777777778,
              "#fb9f3a"
             ],
             [
              0.8888888888888888,
              "#fdca26"
             ],
             [
              1,
              "#f0f921"
             ]
            ],
            "type": "heatmapgl"
           }
          ],
          "histogram": [
           {
            "marker": {
             "pattern": {
              "fillmode": "overlay",
              "size": 10,
              "solidity": 0.2
             }
            },
            "type": "histogram"
           }
          ],
          "histogram2d": [
           {
            "colorbar": {
             "outlinewidth": 0,
             "ticks": ""
            },
            "colorscale": [
             [
              0,
              "#0d0887"
             ],
             [
              0.1111111111111111,
              "#46039f"
             ],
             [
              0.2222222222222222,
              "#7201a8"
             ],
             [
              0.3333333333333333,
              "#9c179e"
             ],
             [
              0.4444444444444444,
              "#bd3786"
             ],
             [
              0.5555555555555556,
              "#d8576b"
             ],
             [
              0.6666666666666666,
              "#ed7953"
             ],
             [
              0.7777777777777778,
              "#fb9f3a"
             ],
             [
              0.8888888888888888,
              "#fdca26"
             ],
             [
              1,
              "#f0f921"
             ]
            ],
            "type": "histogram2d"
           }
          ],
          "histogram2dcontour": [
           {
            "colorbar": {
             "outlinewidth": 0,
             "ticks": ""
            },
            "colorscale": [
             [
              0,
              "#0d0887"
             ],
             [
              0.1111111111111111,
              "#46039f"
             ],
             [
              0.2222222222222222,
              "#7201a8"
             ],
             [
              0.3333333333333333,
              "#9c179e"
             ],
             [
              0.4444444444444444,
              "#bd3786"
             ],
             [
              0.5555555555555556,
              "#d8576b"
             ],
             [
              0.6666666666666666,
              "#ed7953"
             ],
             [
              0.7777777777777778,
              "#fb9f3a"
             ],
             [
              0.8888888888888888,
              "#fdca26"
             ],
             [
              1,
              "#f0f921"
             ]
            ],
            "type": "histogram2dcontour"
           }
          ],
          "mesh3d": [
           {
            "colorbar": {
             "outlinewidth": 0,
             "ticks": ""
            },
            "type": "mesh3d"
           }
          ],
          "parcoords": [
           {
            "line": {
             "colorbar": {
              "outlinewidth": 0,
              "ticks": ""
             }
            },
            "type": "parcoords"
           }
          ],
          "pie": [
           {
            "automargin": true,
            "type": "pie"
           }
          ],
          "scatter": [
           {
            "fillpattern": {
             "fillmode": "overlay",
             "size": 10,
             "solidity": 0.2
            },
            "type": "scatter"
           }
          ],
          "scatter3d": [
           {
            "line": {
             "colorbar": {
              "outlinewidth": 0,
              "ticks": ""
             }
            },
            "marker": {
             "colorbar": {
              "outlinewidth": 0,
              "ticks": ""
             }
            },
            "type": "scatter3d"
           }
          ],
          "scattercarpet": [
           {
            "marker": {
             "colorbar": {
              "outlinewidth": 0,
              "ticks": ""
             }
            },
            "type": "scattercarpet"
           }
          ],
          "scattergeo": [
           {
            "marker": {
             "colorbar": {
              "outlinewidth": 0,
              "ticks": ""
             }
            },
            "type": "scattergeo"
           }
          ],
          "scattergl": [
           {
            "marker": {
             "colorbar": {
              "outlinewidth": 0,
              "ticks": ""
             }
            },
            "type": "scattergl"
           }
          ],
          "scattermapbox": [
           {
            "marker": {
             "colorbar": {
              "outlinewidth": 0,
              "ticks": ""
             }
            },
            "type": "scattermapbox"
           }
          ],
          "scatterpolar": [
           {
            "marker": {
             "colorbar": {
              "outlinewidth": 0,
              "ticks": ""
             }
            },
            "type": "scatterpolar"
           }
          ],
          "scatterpolargl": [
           {
            "marker": {
             "colorbar": {
              "outlinewidth": 0,
              "ticks": ""
             }
            },
            "type": "scatterpolargl"
           }
          ],
          "scatterternary": [
           {
            "marker": {
             "colorbar": {
              "outlinewidth": 0,
              "ticks": ""
             }
            },
            "type": "scatterternary"
           }
          ],
          "surface": [
           {
            "colorbar": {
             "outlinewidth": 0,
             "ticks": ""
            },
            "colorscale": [
             [
              0,
              "#0d0887"
             ],
             [
              0.1111111111111111,
              "#46039f"
             ],
             [
              0.2222222222222222,
              "#7201a8"
             ],
             [
              0.3333333333333333,
              "#9c179e"
             ],
             [
              0.4444444444444444,
              "#bd3786"
             ],
             [
              0.5555555555555556,
              "#d8576b"
             ],
             [
              0.6666666666666666,
              "#ed7953"
             ],
             [
              0.7777777777777778,
              "#fb9f3a"
             ],
             [
              0.8888888888888888,
              "#fdca26"
             ],
             [
              1,
              "#f0f921"
             ]
            ],
            "type": "surface"
           }
          ],
          "table": [
           {
            "cells": {
             "fill": {
              "color": "#EBF0F8"
             },
             "line": {
              "color": "white"
             }
            },
            "header": {
             "fill": {
              "color": "#C8D4E3"
             },
             "line": {
              "color": "white"
             }
            },
            "type": "table"
           }
          ]
         },
         "layout": {
          "annotationdefaults": {
           "arrowcolor": "#2a3f5f",
           "arrowhead": 0,
           "arrowwidth": 1
          },
          "autotypenumbers": "strict",
          "coloraxis": {
           "colorbar": {
            "outlinewidth": 0,
            "ticks": ""
           }
          },
          "colorscale": {
           "diverging": [
            [
             0,
             "#8e0152"
            ],
            [
             0.1,
             "#c51b7d"
            ],
            [
             0.2,
             "#de77ae"
            ],
            [
             0.3,
             "#f1b6da"
            ],
            [
             0.4,
             "#fde0ef"
            ],
            [
             0.5,
             "#f7f7f7"
            ],
            [
             0.6,
             "#e6f5d0"
            ],
            [
             0.7,
             "#b8e186"
            ],
            [
             0.8,
             "#7fbc41"
            ],
            [
             0.9,
             "#4d9221"
            ],
            [
             1,
             "#276419"
            ]
           ],
           "sequential": [
            [
             0,
             "#0d0887"
            ],
            [
             0.1111111111111111,
             "#46039f"
            ],
            [
             0.2222222222222222,
             "#7201a8"
            ],
            [
             0.3333333333333333,
             "#9c179e"
            ],
            [
             0.4444444444444444,
             "#bd3786"
            ],
            [
             0.5555555555555556,
             "#d8576b"
            ],
            [
             0.6666666666666666,
             "#ed7953"
            ],
            [
             0.7777777777777778,
             "#fb9f3a"
            ],
            [
             0.8888888888888888,
             "#fdca26"
            ],
            [
             1,
             "#f0f921"
            ]
           ],
           "sequentialminus": [
            [
             0,
             "#0d0887"
            ],
            [
             0.1111111111111111,
             "#46039f"
            ],
            [
             0.2222222222222222,
             "#7201a8"
            ],
            [
             0.3333333333333333,
             "#9c179e"
            ],
            [
             0.4444444444444444,
             "#bd3786"
            ],
            [
             0.5555555555555556,
             "#d8576b"
            ],
            [
             0.6666666666666666,
             "#ed7953"
            ],
            [
             0.7777777777777778,
             "#fb9f3a"
            ],
            [
             0.8888888888888888,
             "#fdca26"
            ],
            [
             1,
             "#f0f921"
            ]
           ]
          },
          "colorway": [
           "#636efa",
           "#EF553B",
           "#00cc96",
           "#ab63fa",
           "#FFA15A",
           "#19d3f3",
           "#FF6692",
           "#B6E880",
           "#FF97FF",
           "#FECB52"
          ],
          "font": {
           "color": "#2a3f5f"
          },
          "geo": {
           "bgcolor": "white",
           "lakecolor": "white",
           "landcolor": "#E5ECF6",
           "showlakes": true,
           "showland": true,
           "subunitcolor": "white"
          },
          "hoverlabel": {
           "align": "left"
          },
          "hovermode": "closest",
          "mapbox": {
           "style": "light"
          },
          "paper_bgcolor": "white",
          "plot_bgcolor": "#E5ECF6",
          "polar": {
           "angularaxis": {
            "gridcolor": "white",
            "linecolor": "white",
            "ticks": ""
           },
           "bgcolor": "#E5ECF6",
           "radialaxis": {
            "gridcolor": "white",
            "linecolor": "white",
            "ticks": ""
           }
          },
          "scene": {
           "xaxis": {
            "backgroundcolor": "#E5ECF6",
            "gridcolor": "white",
            "gridwidth": 2,
            "linecolor": "white",
            "showbackground": true,
            "ticks": "",
            "zerolinecolor": "white"
           },
           "yaxis": {
            "backgroundcolor": "#E5ECF6",
            "gridcolor": "white",
            "gridwidth": 2,
            "linecolor": "white",
            "showbackground": true,
            "ticks": "",
            "zerolinecolor": "white"
           },
           "zaxis": {
            "backgroundcolor": "#E5ECF6",
            "gridcolor": "white",
            "gridwidth": 2,
            "linecolor": "white",
            "showbackground": true,
            "ticks": "",
            "zerolinecolor": "white"
           }
          },
          "shapedefaults": {
           "line": {
            "color": "#2a3f5f"
           }
          },
          "ternary": {
           "aaxis": {
            "gridcolor": "white",
            "linecolor": "white",
            "ticks": ""
           },
           "baxis": {
            "gridcolor": "white",
            "linecolor": "white",
            "ticks": ""
           },
           "bgcolor": "#E5ECF6",
           "caxis": {
            "gridcolor": "white",
            "linecolor": "white",
            "ticks": ""
           }
          },
          "title": {
           "x": 0.05
          },
          "xaxis": {
           "automargin": true,
           "gridcolor": "white",
           "linecolor": "white",
           "ticks": "",
           "title": {
            "standoff": 15
           },
           "zerolinecolor": "white",
           "zerolinewidth": 2
          },
          "yaxis": {
           "automargin": true,
           "gridcolor": "white",
           "linecolor": "white",
           "ticks": "",
           "title": {
            "standoff": 15
           },
           "zerolinecolor": "white",
           "zerolinewidth": 2
          }
         }
        },
        "title": {
         "text": "3D Plot of X, V, and Attention"
        }
       }
      }
     },
     "metadata": {},
     "output_type": "display_data"
    }
   ],
   "source": [
    "import numpy as np\n",
    "import plotly.graph_objects as go\n",
    "\n",
    "# Define matrices\n",
    "X = np.array([[1, 0, 1, 0], [0, 1, 0, 1], [1, 1, 1, 1]])\n",
    "V = np.array([[2, 0], [0, 2], [2, 2]])\n",
    "Attention = np.array([[0.894, 1.788], [0.894, 1.788], [1.154, 2.309]])\n",
    "\n",
    "# Create 3D scatter plot\n",
    "fig = go.Figure()\n",
    "\n",
    "# Plot X\n",
    "fig.add_trace(go.Scatter3d(x=X[:, 0], y=X[:, 1], z=X[:, 2], mode='markers+text', name='X', text=['X1', 'X2', 'X3'], textposition='top center'))\n",
    "\n",
    "# Plot V\n",
    "fig.add_trace(go.Scatter3d(x=V[:, 0], y=V[:, 1], z=[0, 0, 0], mode='markers+text', name='V', text=['V1', 'V2', 'V3'], textposition='top center'))\n",
    "\n",
    "# Plot Attention\n",
    "fig.add_trace(go.Scatter3d(x=Attention[:, 0], y=Attention[:, 1], z=[0, 0, 0], mode='markers+text', name='Attention', text=['A1', 'A2', 'A3'], textposition='top center'))\n",
    "\n",
    "# Update layout\n",
    "fig.update_layout(scene=dict(xaxis_title='X', yaxis_title='Y', zaxis_title='Z'), title='3D Plot of X, V, and Attention')\n",
    "\n",
    "fig.show()"
   ]
  },
  {
   "cell_type": "markdown",
   "metadata": {},
   "source": [
    "## Cross-Attention"
   ]
  },
  {
   "cell_type": "markdown",
   "metadata": {},
   "source": [
    "### Cross-Attention Mechanism\n",
    "\n",
    "Cross-attention computes attention between two different sequences. Given a query sequence $X_q \\in \\mathbb{R}^{m \\times d}$ and a key-value sequence $X_{kv} \\in \\mathbb{R}^{n \\times d}$ (where $m$ and $n$ may be different), the matrices are computed as:\n",
    "\n",
    "$$Q = X_qW_Q \\in \\mathbb{R}^{m \\times k}$$\n",
    "$$K = X_{kv}W_K \\in \\mathbb{R}^{n \\times k}$$\n",
    "$$V = X_{kv}W_V \\in \\mathbb{R}^{n \\times v}$$\n",
    "\n",
    "where $W_Q \\in \\mathbb{R}^{d \\times k}$, $W_K \\in \\mathbb{R}^{d \\times k}$, and $W_V \\in \\mathbb{R}^{d \\times v}$ are weight matrices.\n",
    "\n",
    "The cross-attention output is computed as:\n",
    "\n",
    "$$\\text{CrossAttention}(Q, K, V) = \\text{softmax}_{\\text{row}}\\left(\\frac{QK^T}{\\sqrt{k}}\\right)V \\in \\mathbb{R}^{m \\times v}$$\n",
    "\n",
    "Note that the attention weight matrix is of size $m \\times n$, reflecting that each position in the query sequence attends to all positions in the key-value sequence.\n",
    "\n",
    "```mermaid\n",
    "graph TB\n",
    "    Xq[Query Sequence] -->|WQ| Q[Q Matrix]\n",
    "    Xkv[Key-Value Sequence] -->|WK| K[K Matrix]\n",
    "    Xkv -->|WV| V[V Matrix]\n",
    "    Q & K --> |QK^T| S[Scaled Attention]\n",
    "    S --> |softmax| W[Attention Weights]\n",
    "    W & V --> O[Output]\n",
    "```"
   ]
  },
  {
   "cell_type": "markdown",
   "metadata": {},
   "source": [
    "### Cross-Attention Example\n",
    "\n",
    "Consider a query sequence $X_q$ and a key-value sequence $X_{kv}$:\n",
    "\n",
    "$$X_q = \\begin{bmatrix} 1 & 0 & 1 & 0 \\\\ 0 & 1 & 0 & 1 \\end{bmatrix} \\in \\mathbb{R}^{2 \\times 4}$$\n",
    "\n",
    "$$X_{kv} = \\begin{bmatrix} 1 & 0 & 1 & 0 \\\\ 0 & 1 & 0 & 1 \\\\ 1 & 1 & 1 & 1 \\end{bmatrix} \\in \\mathbb{R}^{3 \\times 4}$$\n",
    "\n",
    "With weight matrices:\n",
    "\n",
    "$$W_Q = \\begin{bmatrix} 1 & 0 \\\\ 0 & 1 \\\\ 1 & 0 \\\\ 0 & 1 \\end{bmatrix} \\in \\mathbb{R}^{4 \\times 2}, \\quad W_K = \\begin{bmatrix} 1 & 0 \\\\ 0 & 1 \\\\ 1 & 0 \\\\ 0 & 1 \\end{bmatrix} \\in \\mathbb{R}^{4 \\times 2}, \\quad W_V = \\begin{bmatrix} 1 & 0 \\\\ 0 & 1 \\\\ 1 & 0 \\\\ 0 & 1 \\end{bmatrix} \\in \\mathbb{R}^{4 \\times 2}$$\n",
    "\n",
    "The computation proceeds as follows:\n",
    "\n",
    "1. Computing Q, K, and V:\n",
    "$$Q = X_qW_Q = \\begin{bmatrix} 2 & 0 \\\\ 0 & 2 \\end{bmatrix} \\in \\mathbb{R}^{2 \\times 2}$$\n",
    "$$K = X_{kv}W_K = \\begin{bmatrix} 2 & 0 \\\\ 0 & 2 \\\\ 2 & 2 \\end{bmatrix} \\in \\mathbb{R}^{3 \\times 2}$$\n",
    "$$V = X_{kv}W_V = \\begin{bmatrix} 2 & 0 \\\\ 0 & 2 \\\\ 2 & 2 \\end{bmatrix} \\in \\mathbb{R}^{3 \\times 2}$$\n",
    "\n",
    "2. Computing attention scores:\n",
    "$$QK^T = \\begin{bmatrix} 2 & 0 \\\\ 0 & 2 \\end{bmatrix} \\begin{bmatrix} 2 & 0 & 2 \\\\ 0 & 2 & 2 \\end{bmatrix}^T = \\begin{bmatrix} 4 & 0 & 4 \\\\ 0 & 4 & 4 \\end{bmatrix} \\in \\mathbb{R}^{2 \\times 3}$$\n",
    "\n",
    "3. Scaling by $\\sqrt{k}$ (where $k = 2$):\n",
    "$$\\frac{QK^T}{\\sqrt{k}} = \\frac{1}{\\sqrt{2}} \\begin{bmatrix} 4 & 0 & 4 \\\\ 0 & 4 & 4 \\end{bmatrix} = \\begin{bmatrix} 2.83 & 0 & 2.83 \\\\ 0 & 2.83 & 2.83 \\end{bmatrix} \\in \\mathbb{R}^{2 \\times 3}$$\n",
    "\n",
    "4. Applying softmax to obtain the attention weight matrix:\n",
    "$$A = \\text{softmax}_{\\text{row}}\\left(\\frac{QK^T}{\\sqrt{k}}\\right) = \\begin{bmatrix} 0.5 & 0 & 0.5 \\\\ 0 & 0.5 & 0.5 \\end{bmatrix} \\in \\mathbb{R}^{2 \\times 3}$$\n",
    "\n",
    "5. Computing the cross-attention output:\n",
    "$$\\text{Cross-Attention Output} = AV = \\begin{bmatrix} 0.5 & 0 & 0.5 \\\\ 0 & 0.5 & 0.5 \\end{bmatrix} \\begin{bmatrix} 2 & 0 \\\\ 0 & 2 \\\\ 2 & 2 \\end{bmatrix} = \\begin{bmatrix} 2 & 1 \\\\ 1 & 2 \\end{bmatrix} \\in \\mathbb{R}^{2 \\times 2}$$"
   ]
  },
  {
   "cell_type": "code",
   "execution_count": 10,
   "metadata": {},
   "outputs": [
    {
     "data": {
      "application/vnd.plotly.v1+json": {
       "config": {
        "plotlyServerURL": "https://plot.ly"
       },
       "data": [
        {
         "mode": "markers+text",
         "name": "X_q",
         "text": [
          "Xq1",
          "Xq2"
         ],
         "textposition": "top center",
         "type": "scatter3d",
         "x": [
          1,
          0
         ],
         "y": [
          0,
          1
         ],
         "z": [
          2,
          2
         ]
        },
        {
         "mode": "markers+text",
         "name": "X_kv",
         "text": [
          "Xkv1",
          "Xkv2",
          "Xkv3"
         ],
         "textposition": "top center",
         "type": "scatter3d",
         "x": [
          1,
          0,
          1
         ],
         "y": [
          0,
          1,
          1
         ],
         "z": [
          0,
          0,
          0
         ]
        },
        {
         "mode": "markers+text",
         "name": "Cross-Attention",
         "text": [
          "CA1",
          "CA2"
         ],
         "textposition": "top center",
         "type": "scatter3d",
         "x": [
          0.894,
          0.894
         ],
         "y": [
          1.788,
          1.788
         ],
         "z": [
          1,
          1
         ]
        }
       ],
       "layout": {
        "scene": {
         "xaxis": {
          "title": {
           "text": "X"
          }
         },
         "yaxis": {
          "title": {
           "text": "Y"
          }
         },
         "zaxis": {
          "title": {
           "text": "Z"
          }
         }
        },
        "template": {
         "data": {
          "bar": [
           {
            "error_x": {
             "color": "#2a3f5f"
            },
            "error_y": {
             "color": "#2a3f5f"
            },
            "marker": {
             "line": {
              "color": "#E5ECF6",
              "width": 0.5
             },
             "pattern": {
              "fillmode": "overlay",
              "size": 10,
              "solidity": 0.2
             }
            },
            "type": "bar"
           }
          ],
          "barpolar": [
           {
            "marker": {
             "line": {
              "color": "#E5ECF6",
              "width": 0.5
             },
             "pattern": {
              "fillmode": "overlay",
              "size": 10,
              "solidity": 0.2
             }
            },
            "type": "barpolar"
           }
          ],
          "carpet": [
           {
            "aaxis": {
             "endlinecolor": "#2a3f5f",
             "gridcolor": "white",
             "linecolor": "white",
             "minorgridcolor": "white",
             "startlinecolor": "#2a3f5f"
            },
            "baxis": {
             "endlinecolor": "#2a3f5f",
             "gridcolor": "white",
             "linecolor": "white",
             "minorgridcolor": "white",
             "startlinecolor": "#2a3f5f"
            },
            "type": "carpet"
           }
          ],
          "choropleth": [
           {
            "colorbar": {
             "outlinewidth": 0,
             "ticks": ""
            },
            "type": "choropleth"
           }
          ],
          "contour": [
           {
            "colorbar": {
             "outlinewidth": 0,
             "ticks": ""
            },
            "colorscale": [
             [
              0,
              "#0d0887"
             ],
             [
              0.1111111111111111,
              "#46039f"
             ],
             [
              0.2222222222222222,
              "#7201a8"
             ],
             [
              0.3333333333333333,
              "#9c179e"
             ],
             [
              0.4444444444444444,
              "#bd3786"
             ],
             [
              0.5555555555555556,
              "#d8576b"
             ],
             [
              0.6666666666666666,
              "#ed7953"
             ],
             [
              0.7777777777777778,
              "#fb9f3a"
             ],
             [
              0.8888888888888888,
              "#fdca26"
             ],
             [
              1,
              "#f0f921"
             ]
            ],
            "type": "contour"
           }
          ],
          "contourcarpet": [
           {
            "colorbar": {
             "outlinewidth": 0,
             "ticks": ""
            },
            "type": "contourcarpet"
           }
          ],
          "heatmap": [
           {
            "colorbar": {
             "outlinewidth": 0,
             "ticks": ""
            },
            "colorscale": [
             [
              0,
              "#0d0887"
             ],
             [
              0.1111111111111111,
              "#46039f"
             ],
             [
              0.2222222222222222,
              "#7201a8"
             ],
             [
              0.3333333333333333,
              "#9c179e"
             ],
             [
              0.4444444444444444,
              "#bd3786"
             ],
             [
              0.5555555555555556,
              "#d8576b"
             ],
             [
              0.6666666666666666,
              "#ed7953"
             ],
             [
              0.7777777777777778,
              "#fb9f3a"
             ],
             [
              0.8888888888888888,
              "#fdca26"
             ],
             [
              1,
              "#f0f921"
             ]
            ],
            "type": "heatmap"
           }
          ],
          "heatmapgl": [
           {
            "colorbar": {
             "outlinewidth": 0,
             "ticks": ""
            },
            "colorscale": [
             [
              0,
              "#0d0887"
             ],
             [
              0.1111111111111111,
              "#46039f"
             ],
             [
              0.2222222222222222,
              "#7201a8"
             ],
             [
              0.3333333333333333,
              "#9c179e"
             ],
             [
              0.4444444444444444,
              "#bd3786"
             ],
             [
              0.5555555555555556,
              "#d8576b"
             ],
             [
              0.6666666666666666,
              "#ed7953"
             ],
             [
              0.7777777777777778,
              "#fb9f3a"
             ],
             [
              0.8888888888888888,
              "#fdca26"
             ],
             [
              1,
              "#f0f921"
             ]
            ],
            "type": "heatmapgl"
           }
          ],
          "histogram": [
           {
            "marker": {
             "pattern": {
              "fillmode": "overlay",
              "size": 10,
              "solidity": 0.2
             }
            },
            "type": "histogram"
           }
          ],
          "histogram2d": [
           {
            "colorbar": {
             "outlinewidth": 0,
             "ticks": ""
            },
            "colorscale": [
             [
              0,
              "#0d0887"
             ],
             [
              0.1111111111111111,
              "#46039f"
             ],
             [
              0.2222222222222222,
              "#7201a8"
             ],
             [
              0.3333333333333333,
              "#9c179e"
             ],
             [
              0.4444444444444444,
              "#bd3786"
             ],
             [
              0.5555555555555556,
              "#d8576b"
             ],
             [
              0.6666666666666666,
              "#ed7953"
             ],
             [
              0.7777777777777778,
              "#fb9f3a"
             ],
             [
              0.8888888888888888,
              "#fdca26"
             ],
             [
              1,
              "#f0f921"
             ]
            ],
            "type": "histogram2d"
           }
          ],
          "histogram2dcontour": [
           {
            "colorbar": {
             "outlinewidth": 0,
             "ticks": ""
            },
            "colorscale": [
             [
              0,
              "#0d0887"
             ],
             [
              0.1111111111111111,
              "#46039f"
             ],
             [
              0.2222222222222222,
              "#7201a8"
             ],
             [
              0.3333333333333333,
              "#9c179e"
             ],
             [
              0.4444444444444444,
              "#bd3786"
             ],
             [
              0.5555555555555556,
              "#d8576b"
             ],
             [
              0.6666666666666666,
              "#ed7953"
             ],
             [
              0.7777777777777778,
              "#fb9f3a"
             ],
             [
              0.8888888888888888,
              "#fdca26"
             ],
             [
              1,
              "#f0f921"
             ]
            ],
            "type": "histogram2dcontour"
           }
          ],
          "mesh3d": [
           {
            "colorbar": {
             "outlinewidth": 0,
             "ticks": ""
            },
            "type": "mesh3d"
           }
          ],
          "parcoords": [
           {
            "line": {
             "colorbar": {
              "outlinewidth": 0,
              "ticks": ""
             }
            },
            "type": "parcoords"
           }
          ],
          "pie": [
           {
            "automargin": true,
            "type": "pie"
           }
          ],
          "scatter": [
           {
            "fillpattern": {
             "fillmode": "overlay",
             "size": 10,
             "solidity": 0.2
            },
            "type": "scatter"
           }
          ],
          "scatter3d": [
           {
            "line": {
             "colorbar": {
              "outlinewidth": 0,
              "ticks": ""
             }
            },
            "marker": {
             "colorbar": {
              "outlinewidth": 0,
              "ticks": ""
             }
            },
            "type": "scatter3d"
           }
          ],
          "scattercarpet": [
           {
            "marker": {
             "colorbar": {
              "outlinewidth": 0,
              "ticks": ""
             }
            },
            "type": "scattercarpet"
           }
          ],
          "scattergeo": [
           {
            "marker": {
             "colorbar": {
              "outlinewidth": 0,
              "ticks": ""
             }
            },
            "type": "scattergeo"
           }
          ],
          "scattergl": [
           {
            "marker": {
             "colorbar": {
              "outlinewidth": 0,
              "ticks": ""
             }
            },
            "type": "scattergl"
           }
          ],
          "scattermapbox": [
           {
            "marker": {
             "colorbar": {
              "outlinewidth": 0,
              "ticks": ""
             }
            },
            "type": "scattermapbox"
           }
          ],
          "scatterpolar": [
           {
            "marker": {
             "colorbar": {
              "outlinewidth": 0,
              "ticks": ""
             }
            },
            "type": "scatterpolar"
           }
          ],
          "scatterpolargl": [
           {
            "marker": {
             "colorbar": {
              "outlinewidth": 0,
              "ticks": ""
             }
            },
            "type": "scatterpolargl"
           }
          ],
          "scatterternary": [
           {
            "marker": {
             "colorbar": {
              "outlinewidth": 0,
              "ticks": ""
             }
            },
            "type": "scatterternary"
           }
          ],
          "surface": [
           {
            "colorbar": {
             "outlinewidth": 0,
             "ticks": ""
            },
            "colorscale": [
             [
              0,
              "#0d0887"
             ],
             [
              0.1111111111111111,
              "#46039f"
             ],
             [
              0.2222222222222222,
              "#7201a8"
             ],
             [
              0.3333333333333333,
              "#9c179e"
             ],
             [
              0.4444444444444444,
              "#bd3786"
             ],
             [
              0.5555555555555556,
              "#d8576b"
             ],
             [
              0.6666666666666666,
              "#ed7953"
             ],
             [
              0.7777777777777778,
              "#fb9f3a"
             ],
             [
              0.8888888888888888,
              "#fdca26"
             ],
             [
              1,
              "#f0f921"
             ]
            ],
            "type": "surface"
           }
          ],
          "table": [
           {
            "cells": {
             "fill": {
              "color": "#EBF0F8"
             },
             "line": {
              "color": "white"
             }
            },
            "header": {
             "fill": {
              "color": "#C8D4E3"
             },
             "line": {
              "color": "white"
             }
            },
            "type": "table"
           }
          ]
         },
         "layout": {
          "annotationdefaults": {
           "arrowcolor": "#2a3f5f",
           "arrowhead": 0,
           "arrowwidth": 1
          },
          "autotypenumbers": "strict",
          "coloraxis": {
           "colorbar": {
            "outlinewidth": 0,
            "ticks": ""
           }
          },
          "colorscale": {
           "diverging": [
            [
             0,
             "#8e0152"
            ],
            [
             0.1,
             "#c51b7d"
            ],
            [
             0.2,
             "#de77ae"
            ],
            [
             0.3,
             "#f1b6da"
            ],
            [
             0.4,
             "#fde0ef"
            ],
            [
             0.5,
             "#f7f7f7"
            ],
            [
             0.6,
             "#e6f5d0"
            ],
            [
             0.7,
             "#b8e186"
            ],
            [
             0.8,
             "#7fbc41"
            ],
            [
             0.9,
             "#4d9221"
            ],
            [
             1,
             "#276419"
            ]
           ],
           "sequential": [
            [
             0,
             "#0d0887"
            ],
            [
             0.1111111111111111,
             "#46039f"
            ],
            [
             0.2222222222222222,
             "#7201a8"
            ],
            [
             0.3333333333333333,
             "#9c179e"
            ],
            [
             0.4444444444444444,
             "#bd3786"
            ],
            [
             0.5555555555555556,
             "#d8576b"
            ],
            [
             0.6666666666666666,
             "#ed7953"
            ],
            [
             0.7777777777777778,
             "#fb9f3a"
            ],
            [
             0.8888888888888888,
             "#fdca26"
            ],
            [
             1,
             "#f0f921"
            ]
           ],
           "sequentialminus": [
            [
             0,
             "#0d0887"
            ],
            [
             0.1111111111111111,
             "#46039f"
            ],
            [
             0.2222222222222222,
             "#7201a8"
            ],
            [
             0.3333333333333333,
             "#9c179e"
            ],
            [
             0.4444444444444444,
             "#bd3786"
            ],
            [
             0.5555555555555556,
             "#d8576b"
            ],
            [
             0.6666666666666666,
             "#ed7953"
            ],
            [
             0.7777777777777778,
             "#fb9f3a"
            ],
            [
             0.8888888888888888,
             "#fdca26"
            ],
            [
             1,
             "#f0f921"
            ]
           ]
          },
          "colorway": [
           "#636efa",
           "#EF553B",
           "#00cc96",
           "#ab63fa",
           "#FFA15A",
           "#19d3f3",
           "#FF6692",
           "#B6E880",
           "#FF97FF",
           "#FECB52"
          ],
          "font": {
           "color": "#2a3f5f"
          },
          "geo": {
           "bgcolor": "white",
           "lakecolor": "white",
           "landcolor": "#E5ECF6",
           "showlakes": true,
           "showland": true,
           "subunitcolor": "white"
          },
          "hoverlabel": {
           "align": "left"
          },
          "hovermode": "closest",
          "mapbox": {
           "style": "light"
          },
          "paper_bgcolor": "white",
          "plot_bgcolor": "#E5ECF6",
          "polar": {
           "angularaxis": {
            "gridcolor": "white",
            "linecolor": "white",
            "ticks": ""
           },
           "bgcolor": "#E5ECF6",
           "radialaxis": {
            "gridcolor": "white",
            "linecolor": "white",
            "ticks": ""
           }
          },
          "scene": {
           "xaxis": {
            "backgroundcolor": "#E5ECF6",
            "gridcolor": "white",
            "gridwidth": 2,
            "linecolor": "white",
            "showbackground": true,
            "ticks": "",
            "zerolinecolor": "white"
           },
           "yaxis": {
            "backgroundcolor": "#E5ECF6",
            "gridcolor": "white",
            "gridwidth": 2,
            "linecolor": "white",
            "showbackground": true,
            "ticks": "",
            "zerolinecolor": "white"
           },
           "zaxis": {
            "backgroundcolor": "#E5ECF6",
            "gridcolor": "white",
            "gridwidth": 2,
            "linecolor": "white",
            "showbackground": true,
            "ticks": "",
            "zerolinecolor": "white"
           }
          },
          "shapedefaults": {
           "line": {
            "color": "#2a3f5f"
           }
          },
          "ternary": {
           "aaxis": {
            "gridcolor": "white",
            "linecolor": "white",
            "ticks": ""
           },
           "baxis": {
            "gridcolor": "white",
            "linecolor": "white",
            "ticks": ""
           },
           "bgcolor": "#E5ECF6",
           "caxis": {
            "gridcolor": "white",
            "linecolor": "white",
            "ticks": ""
           }
          },
          "title": {
           "x": 0.05
          },
          "xaxis": {
           "automargin": true,
           "gridcolor": "white",
           "linecolor": "white",
           "ticks": "",
           "title": {
            "standoff": 15
           },
           "zerolinecolor": "white",
           "zerolinewidth": 2
          },
          "yaxis": {
           "automargin": true,
           "gridcolor": "white",
           "linecolor": "white",
           "ticks": "",
           "title": {
            "standoff": 15
           },
           "zerolinecolor": "white",
           "zerolinewidth": 2
          }
         }
        },
        "title": {
         "text": "3D Plot of Cross-Attention Components"
        }
       }
      }
     },
     "metadata": {},
     "output_type": "display_data"
    }
   ],
   "source": [
    "# Define matrices for cross-attention\n",
    "X_q = np.array([[1, 0, 1, 0], [0, 1, 0, 1]])\n",
    "X_kv = np.array([[1, 0, 1, 0], [0, 1, 0, 1], [1, 1, 1, 1]])\n",
    "V_cross = np.array([[2, 0], [0, 2], [2, 2]])\n",
    "Attention_cross = np.array([[0.894, 1.788], [0.894, 1.788]])\n",
    "\n",
    "# Create 3D scatter plot for cross-attention\n",
    "fig = go.Figure()\n",
    "\n",
    "# Plot X_q\n",
    "fig.add_trace(go.Scatter3d(x=X_q[:, 0], y=X_q[:, 1], z=[2, 2], mode='markers+text', name='X_q', text=['Xq1', 'Xq2'], textposition='top center'))\n",
    "\n",
    "# Plot X_kv\n",
    "fig.add_trace(go.Scatter3d(x=X_kv[:, 0], y=X_kv[:, 1], z=[0, 0, 0], mode='markers+text', name='X_kv', text=['Xkv1', 'Xkv2', 'Xkv3'], textposition='top center'))\n",
    "\n",
    "# Plot Cross-Attention\n",
    "fig.add_trace(go.Scatter3d(x=Attention_cross[:, 0], y=Attention_cross[:, 1], z=[1, 1], mode='markers+text', name='Cross-Attention', text=['CA1', 'CA2'], textposition='top center'))\n",
    "\n",
    "# Update layout\n",
    "fig.update_layout(scene=dict(xaxis_title='X', yaxis_title='Y', zaxis_title='Z'), title='3D Plot of Cross-Attention Components')\n",
    "\n",
    "fig.show()"
   ]
  },
  {
   "cell_type": "markdown",
   "metadata": {},
   "source": [
    "### Key Differences from Self-Attention\n",
    "\n",
    "1. **Different Input Sequences**: Cross-attention uses two distinct sequences ($X_q$ and $X_{kv}$), while self-attention uses the same sequence for both.\n",
    "\n",
    "2. **Output Dimensions**: The output shape matches the query sequence length (2) rather than the input sequence length (3) in self-attention.\n",
    "\n",
    "3. **Attention Pattern**: The attention weights show how each position in $X_q$ attends to positions in $X_{kv}$, creating an asymmetric relationship.\n",
    "\n",
    "This mechanism is particularly useful in sequence-to-sequence tasks where different-length sequences need to interact, such as in machine translation or question-answering systems."
   ]
  }
 ],
 "metadata": {
  "kernelspec": {
   "display_name": "py312sb3",
   "language": "python",
   "name": "python3"
  },
  "language_info": {
   "codemirror_mode": {
    "name": "ipython",
    "version": 3
   },
   "file_extension": ".py",
   "mimetype": "text/x-python",
   "name": "python",
   "nbconvert_exporter": "python",
   "pygments_lexer": "ipython3",
   "version": "3.12.3"
  }
 },
 "nbformat": 4,
 "nbformat_minor": 2
}
