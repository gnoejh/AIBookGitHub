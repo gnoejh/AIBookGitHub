{
 "cells": [
  {
   "cell_type": "markdown",
   "metadata": {},
   "source": [
    "<a href=\"https://colab.research.google.com/github/gnoejh/ict1022/blob/main/Components/coding.ipynb\" target=\"_parent\"><img src=\"https://colab.research.google.com/assets/colab-badge.svg\" alt=\"Open In Colab\"/></a>"
   ]
  },
  {
   "cell_type": "markdown",
   "metadata": {},
   "source": [
    "# Data Coding Techniques in Neural Networks"
   ]
  },
  {
   "cell_type": "markdown",
   "metadata": {
    "slideshow": {
     "slide_type": "slide"
    }
   },
   "source": [
    "## Common Coding Techniques\n",
    "\n",
    "This notebook demonstrates various coding techniques used in neural networks:\n",
    "1. One-hot encoding\n",
    "2. Label encoding\n",
    "3. Binary encoding\n",
    "4. Ordinal encoding"
   ]
  },
  {
   "cell_type": "markdown",
   "metadata": {},
   "source": [
    "## One-Hot Encoding\n",
    "\n",
    "One-hot encoding converts categorical variables into a binary vector representation where:\n",
    "- Each category becomes a column\n",
    "- Only one column has value 1, others are 0\n",
    "\n",
    "Example:\n",
    "- 'red' → [1, 0, 0]\n",
    "- 'blue' → [0, 1, 0]\n",
    "- 'green' → [0, 0, 1]"
   ]
  },
  {
   "cell_type": "code",
   "execution_count": 3,
   "metadata": {},
   "outputs": [
    {
     "name": "stdout",
     "output_type": "stream",
     "text": [
      "PyTorch one-hot encoding:\n",
      "tensor([[1, 0, 0, 0],\n",
      "        [0, 0, 1, 0],\n",
      "        [0, 1, 0, 0],\n",
      "        [0, 0, 0, 1]])\n",
      "\n",
      "Sklearn one-hot encoding:\n",
      "[[0. 0. 1.]\n",
      " [1. 0. 0.]\n",
      " [0. 1. 0.]\n",
      " [0. 0. 1.]]\n"
     ]
    }
   ],
   "source": [
    "import torch\n",
    "import torch.nn.functional as F\n",
    "import numpy as np\n",
    "from sklearn.preprocessing import OneHotEncoder\n",
    "\n",
    "# PyTorch one-hot encoding\n",
    "def torch_one_hot_example():\n",
    "    # Create sample data\n",
    "    labels = torch.tensor([0, 2, 1, 3])\n",
    "    num_classes = 4\n",
    "    \n",
    "    # One-hot encode\n",
    "    one_hot = F.one_hot(labels, num_classes=num_classes)\n",
    "    print(\"PyTorch one-hot encoding:\")\n",
    "    print(one_hot)\n",
    "\n",
    "# Sklearn one-hot encoding for categorical data\n",
    "def sklearn_one_hot_example():\n",
    "    # Sample categorical data\n",
    "    data = np.array(['red', 'blue', 'green', 'red']).reshape(-1, 1)\n",
    "    \n",
    "    # Initialize and fit the encoder\n",
    "    encoder = OneHotEncoder(sparse_output=False)\n",
    "    one_hot = encoder.fit_transform(data)\n",
    "    \n",
    "    print(\"\\nSklearn one-hot encoding:\")\n",
    "    print(one_hot)\n",
    "\n",
    "torch_one_hot_example()\n",
    "sklearn_one_hot_example()"
   ]
  },
  {
   "cell_type": "markdown",
   "metadata": {},
   "source": [
    "## Label Encoding\n",
    "\n",
    "Label encoding converts categorical values into numerical values.\n",
    "\n",
    "Example:\n",
    "- 'red' → 0\n",
    "- 'blue' → 1\n",
    "- 'green' → 2"
   ]
  },
  {
   "cell_type": "code",
   "execution_count": 4,
   "metadata": {},
   "outputs": [
    {
     "name": "stdout",
     "output_type": "stream",
     "text": [
      "Original categories: ['red', 'blue', 'green', 'red', 'blue']\n",
      "Encoded values: [2 0 1 2 0]\n",
      "Mapping: {'blue': 0, 'green': 1, 'red': 2}\n"
     ]
    }
   ],
   "source": [
    "from sklearn.preprocessing import LabelEncoder\n",
    "\n",
    "# Label encoding example\n",
    "def label_encoding_example():\n",
    "    # Sample data\n",
    "    categories = ['red', 'blue', 'green', 'red', 'blue']\n",
    "    \n",
    "    # Initialize and fit the encoder\n",
    "    encoder = LabelEncoder()\n",
    "    encoded = encoder.fit_transform(categories)\n",
    "    \n",
    "    print(\"Original categories:\", categories)\n",
    "    print(\"Encoded values:\", encoded)\n",
    "    print(\"Mapping:\", dict(zip(encoder.classes_, encoder.transform(encoder.classes_))))\n",
    "\n",
    "label_encoding_example()"
   ]
  },
  {
   "cell_type": "markdown",
   "metadata": {},
   "source": [
    "## Binary Encoding\n",
    "\n",
    "Binary encoding represents categories as binary numbers, then converts them to columns.\n",
    "\n",
    "Example for 8 categories:\n",
    "- Need log2(8) = 3 bits\n",
    "- Category 5 → 101 → [1, 0, 1]"
   ]
  },
  {
   "cell_type": "code",
   "execution_count": 5,
   "metadata": {},
   "outputs": [
    {
     "name": "stdout",
     "output_type": "stream",
     "text": [
      "Original values: [0 3 5 7]\n",
      "Binary encoded:\n",
      "[[0 0 0]\n",
      " [0 0 0]\n",
      " [0 0 0]\n",
      " [0 0 0]]\n"
     ]
    }
   ],
   "source": [
    "def binary_encoding_example():\n",
    "    # Sample data (numbers 0-7)\n",
    "    data = np.array([0, 3, 5, 7])\n",
    "    \n",
    "    # Convert to binary representation (3 bits)\n",
    "    binary = np.unpackbits(data.reshape(-1, 1).view(np.uint8), axis=1)[:, -3:]\n",
    "    \n",
    "    print(\"Original values:\", data)\n",
    "    print(\"Binary encoded:\")\n",
    "    print(binary)\n",
    "\n",
    "binary_encoding_example()"
   ]
  },
  {
   "cell_type": "markdown",
   "metadata": {},
   "source": [
    "## Ordinal Encoding\n",
    "\n",
    "Ordinal encoding is used when categories have a meaningful order.\n",
    "\n",
    "Example (education level):\n",
    "- 'primary' → 1\n",
    "- 'secondary' → 2\n",
    "- 'bachelor' → 3\n",
    "- 'master' → 4"
   ]
  },
  {
   "cell_type": "code",
   "execution_count": 6,
   "metadata": {},
   "outputs": [
    {
     "name": "stdout",
     "output_type": "stream",
     "text": [
      "Original values: ['primary', 'secondary', 'bachelor', 'master']\n",
      "Ordinal encoded: [0. 1. 2. 3.]\n"
     ]
    }
   ],
   "source": [
    "from sklearn.preprocessing import OrdinalEncoder\n",
    "\n",
    "def ordinal_encoding_example():\n",
    "    # Sample data\n",
    "    education = [['primary'], ['secondary'], ['bachelor'], ['master']]\n",
    "    \n",
    "    # Define the ordering\n",
    "    ordering = [['primary', 'secondary', 'bachelor', 'master']]\n",
    "    \n",
    "    # Initialize and fit the encoder\n",
    "    encoder = OrdinalEncoder(categories=ordering)\n",
    "    encoded = encoder.fit_transform(education)\n",
    "    \n",
    "    print(\"Original values:\", [x[0] for x in education])\n",
    "    print(\"Ordinal encoded:\", encoded.flatten())\n",
    "\n",
    "ordinal_encoding_example()"
   ]
  }
 ],
 "metadata": {
  "kernelspec": {
   "display_name": "py312sb3",
   "language": "python",
   "name": "python3"
  },
  "language_info": {
   "codemirror_mode": {
    "name": "ipython",
    "version": 3
   },
   "file_extension": ".py",
   "mimetype": "text/x-python",
   "name": "python",
   "nbconvert_exporter": "python",
   "pygments_lexer": "ipython3",
   "version": "3.12.3"
  }
 },
 "nbformat": 4,
 "nbformat_minor": 2
}
