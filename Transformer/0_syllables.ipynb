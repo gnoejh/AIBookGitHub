{
 "cells": [
  {
   "cell_type": "markdown",
   "id": "679f59ca",
   "metadata": {},
   "source": [
    "# Syllables"
   ]
  },
  {
   "cell_type": "markdown",
   "id": "6e039621",
   "metadata": {},
   "source": [
    "\n",
    "| **Language** | **Estimated Number of Syllables** | **Syllable Structure**            | **Characteristics**                                                                                                               |\n",
    "|--------------|-----------------------------------|------------------------------------|------------------------------------------------------------------------------------------------------------------------------------|\n",
    "| **Korean**   | About 11,172                      | Consonant-Vowel-Final consonant (Initial-Medial-Final) | 19 initial consonants, 21 medial vowels, and 28 final consonants combine to form diverse syllables.                               |\n",
    "| **Chinese Characters (Hanja)**  | About 400                         | Consonant-Vowel                    | Limited syllable combinations; each character has a unique meaning and is pronounced independently.                               |\n",
    "| **Japanese** | About 100                         | Vowel, Consonant-Vowel             | Consists of 5 basic vowels and consonant-vowel combinations; includes special sounds like voiced, semi-voiced sounds, and yōon.   |\n",
    "| **Mandarin Chinese** | About 1,300                | Consonant-Vowel with Tones         | 4 distinct tones: high level, rising, dipping, and falling, applied to 400 base syllables, expanding possible syllables. Tones are essential to convey meaning, as each tone changes the word’s meaning. Example: 妈 (mā, \"mother\"), 麻 (má, \"hemp\"), 马 (mǎ, \"horse\"), 骂 (mà, \"scold\"). |\n",
    "| **English**  | About 15,000 to 16,000            | CVC, CCV, etc.                     | Uses various consonant clusters and diphthongs; complex syllable structures (CVC, CCVC, CVCC, etc.) allow for a large variety.    |\n",
    "| **Russian**  | About 10,000                      | Consonant-Vowel, includes consonant clusters | Complex syllable structures with consonant clusters; vowel pronunciation changes based on stress and intonation.                 |\n"
   ]
  }
 ],
 "metadata": {
  "language_info": {
   "name": "python"
  }
 },
 "nbformat": 4,
 "nbformat_minor": 5
}
