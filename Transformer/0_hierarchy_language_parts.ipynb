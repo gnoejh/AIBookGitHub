{
 "cells": [
  {
   "cell_type": "markdown",
   "metadata": {},
   "source": [
    "# Hierarchy of Language"
   ]
  },
  {
   "cell_type": "markdown",
   "metadata": {},
   "source": [
    "| **Level**               | **Component**       | **Description**                                                                                                       | **Example (English)**                     | **Example (Korean)**                       |\n",
    "|-------------------------|---------------------|-----------------------------------------------------------------------------------------------------------------------|-------------------------------------------|--------------------------------------------|\n",
    "| **Speech Sounds**       | **Consonant**       | Speech sound produced with vocal tract closure or constriction.                                                       | \"b\" in \"bat,\" \"t\" in \"top\"                | \"ㄱ\" in \"가방,\" \"ㄷ\" in \"다리\"               |\n",
    "|                         | **Vowel**           | Speech sound produced with an open vocal tract.                                                                       | \"a\" in \"cat,\" \"o\" in \"top\"                | \"ㅏ\" in \"가방,\" \"ㅗ\" in \"손\"                |\n",
    "|                         | **Phoneme**         | Smallest unit of sound that can change meaning in a language.                                                         | \"k\" in \"cat\" vs. \"b\" in \"bat\"             | \"ㅅ\" in \"사\" vs. \"ㅈ\" in \"자\"               |\n",
    "|                         | **Biphone**         | Pair of consecutive phonemes to capture coarticulatory effects.                                                       | \"k-a\" in \"cat\"                            | \"ㅈ-ㅏ\" in \"자장면\"                         |\n",
    "|                         | **Triphone**        | Sequence of three consecutive phonemes, modeling pronunciation in context.                                            | \"k-a-t\" in \"cat\"                          | \"ㅈ-ㅏ-ㅁ\" in \"자명종\"                      |\n",
    "|                         | **Syllable**        | Sound unit of one or more phonemes, typically a vowel and consonants.                                                 | \"ca\" and \"t\" in \"cat\"                     | \"자\" and \"명\" in \"자명종\"                  |\n",
    "| **Word Structure**      | **Morpheme**        | Smallest unit of meaning in a language.                                                                               | \"un-\" in \"undo,\" \"happy\" in \"unhappy\"     | \"불-\" in \"불안\", \"-하다\" in \"사랑하다\"      |\n",
    "|                         | **Word**            | Basic unit of language consisting of one or more morphemes.                                                           | \"unhappy,\" \"running\"                      | \"불안하다\" (anxious), \"달리다\" (run)       |\n",
    "| **Grammatical Structure** | **Part of Speech (POS)** | Category of words based on their grammatical function.                                                              | \"noun\" for \"dog,\" \"verb\" for \"run\"        | \"명사\" for \"고양이,\" \"동사\" for \"먹다\"     |\n",
    "|                         | **Chunk**           | Group of words (often POS tags) that forms a grammatical unit, like noun or verb phrases.                             | \"the big dog\" (noun phrase)               | \"큰 강아지\" (명사구)                      |\n",
    "|                         | **Phrase**          | Group of words acting as a single unit in a sentence, with distinct meaning or function.                              | \"runs quickly\" (verb phrase)              | \"빨리 달린다\" (동사구)                     |\n",
    "| **Syntax and Semantics** | **Clause**         | A grammatical unit containing a subject and predicate, forming part of a sentence.                                    | \"She runs\" in \"She runs fast\"             | \"그녀가 달린다\" in \"그녀가 빨리 달린다\"    |\n",
    "|                         | **Sentence**        | Complete set of words that convey a full thought, often containing clauses.                                           | \"She runs fast on the track.\"             | \"그녀가 트랙에서 빨리 달린다.\"             |\n",
    "|                         | **Syntax**          | The rules and structure that govern sentence formation and word order.                                                | \"The cat sleeps.\" (correct order)         | \"고양이가 잔다.\" (올바른 어순)            |\n",
    "| **Higher Level Meaning** | **Semantic Role**  | The relationship a word has to other elements in a sentence (e.g., agent, patient).                                   | \"John\" as agent, \"cake\" as patient in \"John ate the cake.\" | \"철수\" as agent, \"사과\" as patient in \"철수가 사과를 먹었다.\" |\n",
    "|                         | **Discourse**       | Larger language units beyond sentences that provide context (e.g., paragraph, conversation).                          | A paragraph or conversation               | 한 문단 또는 대화                          |\n",
    "|                         | **Pragmatics**      | Study of language in context, considering intentions, tone, and implied meanings.                                     | Understanding irony in \"Nice job!\"        | \"잘했어!\"에서 의도 파악 (비꼬기 의미 등)  |\n"
   ]
  },
  {
   "cell_type": "markdown",
   "metadata": {},
   "source": []
  }
 ],
 "metadata": {
  "language_info": {
   "name": "python"
  }
 },
 "nbformat": 4,
 "nbformat_minor": 2
}
