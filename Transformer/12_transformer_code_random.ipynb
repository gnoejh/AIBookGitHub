{
 "cells": [
  {
   "cell_type": "markdown",
   "id": "f5ad6140",
   "metadata": {},
   "source": [
    "<a href=\"https://colab.research.google.com/github/gnoejh/ict1022/blob/main/Transformer/12_transformer_code_random.ipynb\" target=\"_parent\"><img src=\"https://colab.research.google.com/assets/colab-badge.svg\" alt=\"Open In Colab\"/></a>"
   ]
  },
  {
   "cell_type": "code",
   "execution_count": 3,
   "id": "5ced21b9",
   "metadata": {},
   "outputs": [],
   "source": [
    "import torch\n",
    "import torch.nn as nn\n",
    "import torch.optim as optim\n",
    "import math"
   ]
  },
  {
   "cell_type": "markdown",
   "id": "decbfe5b",
   "metadata": {},
   "source": [
    "# Transformer"
   ]
  },
  {
   "cell_type": "markdown",
   "id": "a8d5bf12",
   "metadata": {},
   "source": [
    "### 1. Using nn.Transformer for the Full Model"
   ]
  },
  {
   "cell_type": "markdown",
   "id": "8cdf94ad",
   "metadata": {},
   "source": [
    "\n",
    "We will implement the full Transformer model using PyTorch's built-in `nn.Transformer`, which includes encoder and decoder layers optimized for Transformer architecture. This approach is more efficient and avoids the need to implement individual layers manually.\n",
    "\n",
    "**Explanation**:\n",
    "- **nn.Transformer**: Includes all the core components of a Transformer model, including multi-head attention, encoder and decoder layers, and residual connections.\n",
    "- **nn.Embedding and Positional Encoding**: We use separate embedding and positional encoding modules, as these are not directly included in `nn.Transformer`.\n",
    "\n",
    "This model can be used for tasks like translation, summarization, and other sequence-to-sequence tasks.\n",
    "    "
   ]
  },
  {
   "cell_type": "code",
   "execution_count": 4,
   "id": "7884a5e4",
   "metadata": {},
   "outputs": [
    {
     "name": "stdout",
     "output_type": "stream",
     "text": [
      "Source Input: tensor([[ 801, 3345, 6259, 9247, 5210],\n",
      "        [6625, 7970, 3600, 8639, 6364]])\n",
      "Target Input: tensor([[ 317, 2920, 9425, 1596, 1245],\n",
      "        [6418, 3183,  389, 5557, 7705]])\n",
      "Transformer Model Output (logits): tensor([[[-0.2127,  0.6445, -0.1000,  ..., -0.6889, -0.7662, -0.3775],\n",
      "         [-0.3332,  0.7756,  0.0581,  ..., -1.2720,  0.3419, -0.4285],\n",
      "         [ 0.0414,  0.5423,  0.3065,  ..., -0.7987, -0.7487,  0.2474],\n",
      "         [-0.1450,  1.2587, -0.5921,  ..., -0.4057, -0.9128, -0.2640],\n",
      "         [-0.0619,  1.0298,  0.5166,  ..., -1.2149,  0.0316, -0.5781]],\n",
      "\n",
      "        [[-0.1878,  0.7941, -0.0325,  ..., -0.2016,  0.9408, -0.3650],\n",
      "         [-0.1603,  1.0844, -0.2845,  ..., -0.8920, -0.2510, -0.5387],\n",
      "         [-0.1987,  0.6298,  0.2243,  ..., -0.2841,  0.1619, -0.1662],\n",
      "         [ 0.2598,  0.6405, -0.0019,  ..., -0.9852, -0.6150, -0.6857],\n",
      "         [ 0.4340,  0.4203,  0.5398,  ..., -1.0211, -0.0523,  0.4455]]],\n",
      "       grad_fn=<ViewBackward0>)\n"
     ]
    }
   ],
   "source": [
    "class PositionalEncoding(nn.Module):\n",
    "    def __init__(self, embed_size, max_len=5000):\n",
    "        super(PositionalEncoding, self).__init__()\n",
    "        pe = torch.zeros(max_len, embed_size)\n",
    "        for pos in range(max_len):\n",
    "            for i in range(0, embed_size, 2):\n",
    "                pe[pos, i] = math.sin(pos / (10000 ** ((2 * i) / embed_size)))\n",
    "                pe[pos, i + 1] = math.cos(pos / (10000 ** ((2 * i) / embed_size)))\n",
    "        pe = pe.unsqueeze(0)\n",
    "        self.register_buffer('pe', pe)\n",
    "\n",
    "    def forward(self, x):\n",
    "        x = x + self.pe[:, :x.size(1)]\n",
    "        return x\n",
    "\n",
    "class TransformerModel(nn.Module):\n",
    "    def __init__(self, src_vocab_size, tgt_vocab_size, embed_size, num_heads, num_layers, forward_expansion, dropout, max_length):\n",
    "        super(TransformerModel, self).__init__()\n",
    "        self.src_embedding = nn.Embedding(src_vocab_size, embed_size)\n",
    "        self.tgt_embedding = nn.Embedding(tgt_vocab_size, embed_size)\n",
    "        self.positional_encoding = PositionalEncoding(embed_size, max_len=max_length)\n",
    "        \n",
    "        # Transformer module with encoder and decoder layers\n",
    "        self.transformer = nn.Transformer(\n",
    "            d_model=embed_size, \n",
    "            nhead=num_heads, \n",
    "            num_encoder_layers=num_layers, \n",
    "            num_decoder_layers=num_layers, \n",
    "            dim_feedforward=forward_expansion * embed_size, \n",
    "            dropout=dropout,\n",
    "            batch_first=True\n",
    "        )\n",
    "        \n",
    "        self.fc_out = nn.Linear(embed_size, tgt_vocab_size)\n",
    "\n",
    "    def forward(self, src, tgt, src_mask=None, tgt_mask=None):\n",
    "        # Embedding and positional encoding for source and target\n",
    "        src_embedded = self.positional_encoding(self.src_embedding(src))\n",
    "        tgt_embedded = self.positional_encoding(self.tgt_embedding(tgt))\n",
    "        \n",
    "        # Transformer forward pass\n",
    "        transformer_output = self.transformer(\n",
    "            src_embedded, tgt_embedded, src_key_padding_mask=src_mask, tgt_key_padding_mask=tgt_mask\n",
    "        )\n",
    "        \n",
    "        # Final output layer for token predictions\n",
    "        out = self.fc_out(transformer_output)\n",
    "        return out\n",
    "\n",
    "# Example usage\n",
    "src_vocab_size = 10000 # Source vocabulary size\n",
    "tgt_vocab_size = 10000 # Target vocabulary size\n",
    "embed_size = 16\n",
    "num_heads = 4\n",
    "num_layers = 3\n",
    "forward_expansion = 4 # Feedforward expansion factor\n",
    "dropout = 0.1\n",
    "max_length = 100 # Maximum sequence length\n",
    "\n",
    "transformer = TransformerModel(src_vocab_size, tgt_vocab_size, embed_size, num_heads, num_layers, forward_expansion, dropout, max_length)\n",
    "src = torch.randint(0, src_vocab_size, (2, 5))  # Batch size = 2, Sequence length = 5\n",
    "print(\"Source Input:\", src)\n",
    "tgt = torch.randint(0, tgt_vocab_size, (2, 5))\n",
    "print(\"Target Input:\", tgt)\n",
    "\n",
    "output = transformer(src, tgt)\n",
    "print(\"Transformer Model Output (logits):\", output) # logits for each token in the target sequence\n",
    "    "
   ]
  },
  {
   "cell_type": "markdown",
   "id": "24df8f20",
   "metadata": {},
   "source": [
    "### 2. Training Loop Example"
   ]
  },
  {
   "cell_type": "markdown",
   "id": "2c5f701f",
   "metadata": {},
   "source": [
    "\n",
    "**Objective**: Demonstrate a basic training loop with a forward and backward pass, typically used to train the Transformer on sequence-to-sequence tasks.\n",
    "\n",
    "**Explanation**:\n",
    "   - **Loss Calculation**: The model output is compared to the target sequence to compute cross-entropy loss.\n",
    "   - **Backpropagation**: The loss is used to adjust model weights through gradient descent.\n",
    "   - **Optimization**: Each batch adjusts model parameters to improve predictions.\n",
    "    "
   ]
  },
  {
   "cell_type": "code",
   "execution_count": null,
   "id": "49a80e81",
   "metadata": {},
   "outputs": [
    {
     "name": "stdout",
     "output_type": "stream",
     "text": [
      "Epoch [1/10], Loss: 9.1753\n",
      "Epoch [2/10], Loss: 8.8822\n",
      "Epoch [3/10], Loss: 8.8661\n",
      "Epoch [4/10], Loss: 8.7572\n",
      "Epoch [5/10], Loss: 8.5909\n",
      "Epoch [6/10], Loss: 8.4162\n",
      "Epoch [7/10], Loss: 8.4443\n",
      "Epoch [8/10], Loss: 8.2908\n",
      "Epoch [9/10], Loss: 8.3136\n",
      "Epoch [10/10], Loss: 8.1716\n"
     ]
    }
   ],
   "source": [
    "# Example training loop\n",
    "num_epochs = 10\n",
    "learning_rate = 0.001\n",
    "criterion = nn.CrossEntropyLoss(ignore_index=0)  # Assuming padding index is 0\n",
    "optimizer = optim.Adam(transformer.parameters(), lr=learning_rate)\n",
    "\n",
    "for epoch in range(num_epochs):\n",
    "    transformer.train()\n",
    "    optimizer.zero_grad()\n",
    "\n",
    "    output = transformer(src, tgt[:, :-1])  # Input all tokens except the last one\n",
    "    # [batch_size, sequence_length, vocab_size]\n",
    "    output = output.reshape(-1, output.shape[2])  # [batch_size * sequence_length, vocab_size]\n",
    "    tgt_output = tgt[:, 1:].reshape(-1)  # Expected output sequence shifted by one\n",
    "    # tgt[:, 1:]: The target sequence, excluding the first token. \n",
    "    # This is done because the model's prediction at each time step should be compared to the next token in the sequence.\n",
    "    # tgt[:, 1:].reshape(-1): Reshapes the target sequence to a 1D tensor of shape [batch_size * sequence_length]. \n",
    "    # This flattening aligns with the reshaped model output for loss computation.\n",
    "    \n",
    "    loss = criterion(output, tgt_output)\n",
    "    loss.backward()\n",
    "    optimizer.step()\n",
    "\n",
    "    print(f\"Epoch [{epoch + 1}/{num_epochs}], Loss: {loss.item():.4f}\")"
   ]
  }
 ],
 "metadata": {
  "kernelspec": {
   "display_name": "py312sb3",
   "language": "python",
   "name": "python3"
  },
  "language_info": {
   "codemirror_mode": {
    "name": "ipython",
    "version": 3
   },
   "file_extension": ".py",
   "mimetype": "text/x-python",
   "name": "python",
   "nbconvert_exporter": "python",
   "pygments_lexer": "ipython3",
   "version": "3.12.3"
  }
 },
 "nbformat": 4,
 "nbformat_minor": 5
}
