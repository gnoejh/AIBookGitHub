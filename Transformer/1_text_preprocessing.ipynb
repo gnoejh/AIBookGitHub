{
 "cells": [
  {
   "cell_type": "markdown",
   "id": "74a5c341",
   "metadata": {},
   "source": [
    "<a href=\"https://colab.research.google.com/github/gnoejh/ict1022/blob/main/Transformer/1_text_preprocessing.ipynb\" target=\"_parent\"><img src=\"https://colab.research.google.com/assets/colab-badge.svg\" alt=\"Open In Colab\"/></a>"
   ]
  },
  {
   "cell_type": "code",
   "execution_count": 188,
   "id": "1988493c",
   "metadata": {},
   "outputs": [
    {
     "name": "stderr",
     "output_type": "stream",
     "text": [
      "[nltk_data] Downloading package punkt to\n",
      "[nltk_data]     C:\\Users\\hjeong\\AppData\\Roaming\\nltk_data...\n",
      "[nltk_data]   Package punkt is already up-to-date!\n",
      "[nltk_data] Downloading package punkt_tab to\n",
      "[nltk_data]     C:\\Users\\hjeong\\AppData\\Roaming\\nltk_data...\n",
      "[nltk_data]   Package punkt_tab is already up-to-date!\n",
      "[nltk_data] Downloading package wordnet to\n",
      "[nltk_data]     C:\\Users\\hjeong\\AppData\\Roaming\\nltk_data...\n",
      "[nltk_data]   Package wordnet is already up-to-date!\n",
      "[nltk_data] Downloading package stopwords to\n",
      "[nltk_data]     C:\\Users\\hjeong\\AppData\\Roaming\\nltk_data...\n",
      "[nltk_data]   Package stopwords is already up-to-date!\n",
      "[nltk_data] Downloading package averaged_perceptron_tagger_eng to\n",
      "[nltk_data]     C:\\Users\\hjeong\\AppData\\Roaming\\nltk_data...\n",
      "[nltk_data]   Package averaged_perceptron_tagger_eng is already up-to-\n",
      "[nltk_data]       date!\n",
      "[nltk_data] Downloading package maxent_ne_chunker to\n",
      "[nltk_data]     C:\\Users\\hjeong\\AppData\\Roaming\\nltk_data...\n",
      "[nltk_data]   Package maxent_ne_chunker is already up-to-date!\n",
      "[nltk_data] Downloading package words to\n",
      "[nltk_data]     C:\\Users\\hjeong\\AppData\\Roaming\\nltk_data...\n",
      "[nltk_data]   Package words is already up-to-date!\n"
     ]
    }
   ],
   "source": [
    "# Imports\n",
    "import re\n",
    "import nltk\n",
    "from nltk.tokenize import word_tokenize\n",
    "from nltk.stem import PorterStemmer, WordNetLemmatizer\n",
    "from nltk.corpus import stopwords\n",
    "from nltk import ne_chunk\n",
    "from transformers import AutoTokenizer\n",
    "\n",
    "# Ensure nltk resources are available\n",
    "try:\n",
    "    nltk.download('punkt')\n",
    "    nltk.download('punkt_tab')  # for colab\n",
    "    nltk.download('wordnet')\n",
    "    nltk.download('stopwords')\n",
    "    nltk.download('averaged_perceptron_tagger_eng')  # Corrected resource name\n",
    "    nltk.download('maxent_ne_chunker')\n",
    "    nltk.download('words')\n",
    "except Exception as e:\n",
    "    print(f\"Error downloading NLTK resources: {e}\")\n",
    "\n",
    "# Initialize reusable components\n",
    "stemmer = PorterStemmer()\n",
    "lemmatizer = WordNetLemmatizer()\n",
    "stop_words = set(stopwords.words('english'))\n",
    "tokenizer = AutoTokenizer.from_pretrained(\"bert-base-uncased\")"
   ]
  },
  {
   "cell_type": "markdown",
   "id": "c4d0534d",
   "metadata": {},
   "source": [
    "### 1. Basic Text Cleaning\n",
    "Remove unnecessary characters and make text uniform for processing.\n",
    "- Regular expression: https://docs.python.org/3/library/re.html\n",
    "- NLTK: https://www.nltk.org/book/"
   ]
  },
  {
   "cell_type": "code",
   "execution_count": 189,
   "id": "67f3949c",
   "metadata": {},
   "outputs": [
    {
     "name": "stdout",
     "output_type": "stream",
     "text": [
      "Lowercased Text: hello! this is an nlp tutorial by prof. hong jeong in aidt class at iut. let's learn, step-by-step.\n",
      "Cleaned Text: hello this is an nlp tutorial by prof hong jeong in aidt class at iut lets learn stepbystep\n"
     ]
    }
   ],
   "source": [
    "# Sample text\n",
    "text = \"Hello! This is an NLP tutorial by Prof. Hong Jeong in AIDT class at IUT. Let's learn, step-by-step.\"\n",
    "\n",
    "# Lowercasing\n",
    "text = text.lower()\n",
    "print(\"Lowercased Text:\", text)\n",
    "\n",
    "# Removing punctuation\n",
    "text = re.sub(r'[^\\w\\s]', '', text)\n",
    "print(\"Cleaned Text:\", text)"
   ]
  },
  {
   "cell_type": "markdown",
   "id": "c243a7fb",
   "metadata": {},
   "source": [
    "### 2. Tokenization\n",
    "Split text into individual words or subword units for further analysis.\n",
    "\n",
    "- Word Tokenization splits text into individual words.\n",
    "- Subword Tokenization (BPE - Byte Pair Encoding) captures out-of-vocabulary words and morphological components."
   ]
  },
  {
   "cell_type": "code",
   "execution_count": 190,
   "id": "e61f492b",
   "metadata": {},
   "outputs": [
    {
     "name": "stdout",
     "output_type": "stream",
     "text": [
      "Word Tokens: ['hello', 'this', 'is', 'an', 'nlp', 'tutorial', 'by', 'prof', 'hong', 'jeong', 'in', 'aidt', 'class', 'at', 'iut', 'lets', 'learn', 'stepbystep']\n",
      "Subword Tokens: ['hello', 'this', 'is', 'an', 'nl', '##p', 'tutor', '##ial', 'by', 'prof', 'hong', 'je', '##ong', 'in', 'aid', '##t', 'class', 'at', 'i', '##ut', 'lets', 'learn', 'step', '##by', '##ste', '##p']\n"
     ]
    }
   ],
   "source": [
    "# Word Tokenization\n",
    "try:\n",
    "    tokens = word_tokenize(text)\n",
    "    print(\"Word Tokens:\", tokens)\n",
    "except LookupError as e:\n",
    "    print(\"Error loading punkt resource. Ensure the directory structure is correct.\", e)\n",
    "\n",
    "# Subword Tokenization (BPE)\n",
    "subword_tokens = tokenizer.tokenize(text)\n",
    "print(\"Subword Tokens:\", subword_tokens)"
   ]
  },
  {
   "cell_type": "markdown",
   "id": "1b6d794a",
   "metadata": {},
   "source": [
    "### 3. Stemming and Lemmatization\n",
    "Reduce words to their base forms to normalize similar words (e.g., 'running' to 'run').\n",
    "- Stemming cuts down words to their base or root form, which may not always be a valid word.\n",
    "- Lemmatization reduces words to their dictionary form (lemma) and is more accurate but requires knowledge of the word’s part of speech.\n"
   ]
  },
  {
   "cell_type": "code",
   "execution_count": 191,
   "id": "9f4956cc",
   "metadata": {},
   "outputs": [
    {
     "name": "stdout",
     "output_type": "stream",
     "text": [
      "Stemmed Tokens: ['hello', 'thi', 'is', 'an', 'nlp', 'tutori', 'by', 'prof', 'hong', 'jeong', 'in', 'aidt', 'class', 'at', 'iut', 'let', 'learn', 'stepbystep']\n",
      "Lemmatized Tokens: ['hello', 'this', 'is', 'an', 'nlp', 'tutorial', 'by', 'prof', 'hong', 'jeong', 'in', 'aidt', 'class', 'at', 'iut', 'let', 'learn', 'stepbystep']\n"
     ]
    }
   ],
   "source": [
    "# Applying stemming\n",
    "stemmed_tokens = [stemmer.stem(word) for word in tokens]\n",
    "print(\"Stemmed Tokens:\", stemmed_tokens)\n",
    "\n",
    "# Applying lemmatization\n",
    "lemmatized_tokens = [lemmatizer.lemmatize(word) for word in tokens]\n",
    "print(\"Lemmatized Tokens:\", lemmatized_tokens)"
   ]
  },
  {
   "cell_type": "markdown",
   "id": "ddb7a6ea",
   "metadata": {},
   "source": [
    "### 4. Stop-word Removal\n",
    "Remove common words (e.g., \"the\", \"is\", \"in\") that do not add significant meaning.\n",
    "\n",
    "Removing stop-words helps reduce noise in the data, especially when focusing on meaningful words."
   ]
  },
  {
   "cell_type": "code",
   "execution_count": 192,
   "id": "35324ecd",
   "metadata": {},
   "outputs": [
    {
     "name": "stdout",
     "output_type": "stream",
     "text": [
      "Filtered Tokens (Stop-words removed): ['hello', 'nlp', 'tutorial', 'prof', 'hong', 'jeong', 'aidt', 'class', 'iut', 'lets', 'learn', 'stepbystep']\n"
     ]
    }
   ],
   "source": [
    "# Remove stop-words\n",
    "filtered_tokens = [word for word in tokens if word not in stop_words]\n",
    "print(\"Filtered Tokens (Stop-words removed):\", filtered_tokens)"
   ]
  },
  {
   "cell_type": "markdown",
   "id": "9a0be765",
   "metadata": {},
   "source": [
    "### 5. Part-of-Speech (POS) Tagging\n",
    "Assign each word a part of speech (noun, verb, etc.), useful for grammatical structure understanding."
   ]
  },
  {
   "cell_type": "code",
   "execution_count": 193,
   "id": "03604e00",
   "metadata": {},
   "outputs": [
    {
     "name": "stdout",
     "output_type": "stream",
     "text": [
      "POS Tags: [('hello', 'NN'), ('nlp', 'CC'), ('tutorial', 'JJ'), ('prof', 'NN'), ('hong', 'NN'), ('jeong', 'NN'), ('aidt', 'JJ'), ('class', 'NN'), ('iut', 'NN'), ('lets', 'VBZ'), ('learn', 'JJ'), ('stepbystep', 'NN')]\n"
     ]
    }
   ],
   "source": [
    "# Part-of-Speech Tagging\n",
    "try:\n",
    "    pos_tags = nltk.pos_tag(filtered_tokens)\n",
    "    print(\"POS Tags:\", pos_tags)\n",
    "except LookupError as e:\n",
    "    print(\"Error loading averaged_perceptron_tagger resource. Ensure the directory structure is correct.\", e)"
   ]
  },
  {
   "cell_type": "markdown",
   "id": "326737bc",
   "metadata": {},
   "source": [
    "### 6. Named Entity Recognition (NER)"
   ]
  },
  {
   "cell_type": "code",
   "execution_count": 194,
   "id": "c13865d0",
   "metadata": {},
   "outputs": [
    {
     "name": "stdout",
     "output_type": "stream",
     "text": [
      "Named Entities: (S\n",
      "  hello/NN\n",
      "  nlp/CC\n",
      "  tutorial/JJ\n",
      "  prof/NN\n",
      "  hong/NN\n",
      "  jeong/NN\n",
      "  aidt/JJ\n",
      "  class/NN\n",
      "  iut/NN\n",
      "  lets/VBZ\n",
      "  learn/JJ\n",
      "  stepbystep/NN)\n"
     ]
    }
   ],
   "source": [
    "# Named Entity Recognition\n",
    "try:\n",
    "    # Ensure pos_tags is defined\n",
    "    if 'pos_tags' not in locals():\n",
    "        pos_tags = nltk.pos_tag(filtered_tokens)  # Perform POS tagging if not already done\n",
    "    ner_tags = ne_chunk(pos_tags)\n",
    "    print(\"Named Entities:\", ner_tags)\n",
    "except LookupError as e:\n",
    "    print(\"Error loading NER resources. Ensure the directory structure is correct.\", e)"
   ]
  },
  {
   "cell_type": "markdown",
   "id": "59d8dcea",
   "metadata": {},
   "source": [
    "### 7. Combining Steps into a Preprocessing Function"
   ]
  },
  {
   "cell_type": "code",
   "execution_count": 195,
   "id": "0ea26eb4",
   "metadata": {},
   "outputs": [
    {
     "name": "stdout",
     "output_type": "stream",
     "text": [
      "Preprocessed Text: ['hello', 'nlp', 'tutori', 'let', 'learn', 'stepbystep']\n"
     ]
    }
   ],
   "source": [
    "def preprocess_text(text):\n",
    "    # Lowercase\n",
    "    text = text.lower()\n",
    "    \n",
    "    # Remove punctuation\n",
    "    text = re.sub(r'[^\\w\\s]', '', text)\n",
    "    \n",
    "    # Tokenization\n",
    "    tokens = word_tokenize(text)\n",
    "    \n",
    "    # Remove stop-words\n",
    "    tokens = [word for word in tokens if word not in stop_words]\n",
    "    \n",
    "    # Stemming (optional)\n",
    "    tokens = [stemmer.stem(word) for word in tokens]\n",
    "    \n",
    "    return tokens\n",
    "\n",
    "# Example usage\n",
    "preprocessed_text = preprocess_text(\"Hello! This is an NLP tutorial. Let's learn, step-by-step.\")\n",
    "print(\"Preprocessed Text:\", preprocessed_text)"
   ]
  }
 ],
 "metadata": {
  "kernelspec": {
   "display_name": "py312sb3",
   "language": "python",
   "name": "python3"
  },
  "language_info": {
   "codemirror_mode": {
    "name": "ipython",
    "version": 3
   },
   "file_extension": ".py",
   "mimetype": "text/x-python",
   "name": "python",
   "nbconvert_exporter": "python",
   "pygments_lexer": "ipython3",
   "version": "3.12.3"
  }
 },
 "nbformat": 4,
 "nbformat_minor": 5
}
