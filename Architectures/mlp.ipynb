{
    "cells": [
        {
            "cell_type": "markdown",
            "metadata": {},
            "source": [
                "<a href=\"https://colab.research.google.com/github/gnoejh/ict1022/blob/main/Architectures/mlp.ipynb\" target=\"_parent\"><img src=\"https://colab.research.google.com/assets/colab-badge.svg\" alt=\"Open In Colab\"/></a>"
            ]
        },
        {
            "cell_type": "markdown",
            "metadata": {},
            "source": [
                "# Multilayer Perceptron (MLP)\n",
                "\n",
                "The Multilayer Perceptron (MLP) is the foundational architecture for modern neural networks. It consists of multiple layers of artificial neurons (perceptrons) that can approximate complex functions and learn patterns in data."
            ]
        },
        {
            "cell_type": "markdown",
            "metadata": {},
            "source": [
                "## Historical Context\n",
                "\n",
                "The story of MLPs began with the simple perceptron model introduced by Frank Rosenblatt in 1958. However, as Minsky and Papert demonstrated in 1969, single-layer perceptrons couldn't solve linearly inseparable problems (like XOR). This limitation was overcome with the introduction of:\n",
                "\n",
                "1. Multiple layers of perceptrons (hidden layers)\n",
                "2. Non-linear activation functions\n",
                "3. The backpropagation algorithm for training (popularized in the 1980s)\n",
                "\n",
                "These innovations form the basis of what we now call the Multilayer Perceptron."
            ]
        },
        {
            "cell_type": "markdown",
            "metadata": {},
            "source": [
                "## Architecture\n",
                "\n",
                "An MLP architecture typically consists of:\n",
                "\n",
                "1. **Input Layer**: Neurons corresponding to features in the input data\n",
                "2. **Hidden Layer(s)**: One or more layers that perform non-linear transformations\n",
                "3. **Output Layer**: Produces the final prediction/classification\n",
                "\n",
                "\n",
                "Each connection between neurons has an associated weight, and each neuron typically has a bias term. The output of each neuron is computed as:\n",
                "\n",
                "$$y = \\sigma\\left(\\sum_{i=1}^{n} w_i x_i + b\\right)$$\n",
                "\n",
                "Where:\n",
                "- $\\sigma$ is a non-linear activation function\n",
                "- $w_i$ are the weights\n",
                "- $x_i$ are the inputs\n",
                "- $b$ is the bias term"
            ]
        },
        {
            "cell_type": "code",
            "execution_count": 16,
            "metadata": {
                "vscode": {
                    "languageId": "html"
                }
            },
            "outputs": [
                {
                    "data": {
                        "text/html": [
                            "<div style=\"display: flex; justify-content: center; margin: 20px;\">\n",
                            "  <svg width=\"600\" height=\"380\" xmlns=\"http://www.w3.org/2000/svg\">\n",
                            "    <!-- Layer Labels -->\n",
                            "    <text x=\"80\" y=\"40\" font-family=\"Arial\" font-size=\"16\" text-anchor=\"middle\" font-weight=\"bold\">Input Layer</text>\n",
                            "    <text x=\"300\" y=\"40\" font-family=\"Arial\" font-size=\"16\" text-anchor=\"middle\" font-weight=\"bold\">Hidden Layer</text>\n",
                            "    <text x=\"520\" y=\"40\" font-family=\"Arial\" font-size=\"16\" text-anchor=\"middle\" font-weight=\"bold\">Output Layer</text>\n",
                            "    \n",
                            "    <!-- Input Layer Neurons -->\n",
                            "    <circle cx=\"80\" cy=\"100\" r=\"25\" fill=\"#6495ED\" stroke=\"black\" stroke-width=\"2\"/>\n",
                            "    <circle cx=\"80\" cy=\"190\" r=\"25\" fill=\"#6495ED\" stroke=\"black\" stroke-width=\"2\"/>\n",
                            "    <circle cx=\"80\" cy=\"280\" r=\"25\" fill=\"#6495ED\" stroke=\"black\" stroke-width=\"2\"/>\n",
                            "    <text x=\"80\" y=\"100\" font-family=\"Arial\" font-size=\"14\" text-anchor=\"middle\" dominant-baseline=\"middle\">x₁</text>\n",
                            "    <text x=\"80\" y=\"190\" font-family=\"Arial\" font-size=\"14\" text-anchor=\"middle\" dominant-baseline=\"middle\">x₂</text>\n",
                            "    <text x=\"80\" y=\"280\" font-family=\"Arial\" font-size=\"14\" text-anchor=\"middle\" dominant-baseline=\"middle\">x₃</text>\n",
                            "\n",
                            "    <!-- Hidden Layer Neurons -->\n",
                            "    <circle cx=\"300\" cy=\"80\" r=\"25\" fill=\"#FFA500\" stroke=\"black\" stroke-width=\"2\"/>\n",
                            "    <circle cx=\"300\" cy=\"160\" r=\"25\" fill=\"#FFA500\" stroke=\"black\" stroke-width=\"2\"/>\n",
                            "    <circle cx=\"300\" cy=\"240\" r=\"25\" fill=\"#FFA500\" stroke=\"black\" stroke-width=\"2\"/>\n",
                            "    <circle cx=\"300\" cy=\"320\" r=\"25\" fill=\"#FFA500\" stroke=\"black\" stroke-width=\"2\"/>\n",
                            "    <text x=\"300\" y=\"80\" font-family=\"Arial\" font-size=\"14\" text-anchor=\"middle\" dominant-baseline=\"middle\">h₁</text>\n",
                            "    <text x=\"300\" y=\"160\" font-family=\"Arial\" font-size=\"14\" text-anchor=\"middle\" dominant-baseline=\"middle\">h₂</text>\n",
                            "    <text x=\"300\" y=\"240\" font-family=\"Arial\" font-size=\"14\" text-anchor=\"middle\" dominant-baseline=\"middle\">h₃</text>\n",
                            "    <text x=\"300\" y=\"320\" font-family=\"Arial\" font-size=\"14\" text-anchor=\"middle\" dominant-baseline=\"middle\">h₄</text>\n",
                            "\n",
                            "    <!-- Output Layer Neurons -->\n",
                            "    <circle cx=\"520\" cy=\"140\" r=\"25\" fill=\"#90EE90\" stroke=\"black\" stroke-width=\"2\"/>\n",
                            "    <circle cx=\"520\" cy=\"240\" r=\"25\" fill=\"#90EE90\" stroke=\"black\" stroke-width=\"2\"/>\n",
                            "    <text x=\"520\" y=\"140\" font-family=\"Arial\" font-size=\"14\" text-anchor=\"middle\" dominant-baseline=\"middle\">y₁</text>\n",
                            "    <text x=\"520\" y=\"240\" font-family=\"Arial\" font-size=\"14\" text-anchor=\"middle\" dominant-baseline=\"middle\">y₂</text>\n",
                            "\n",
                            "    <!-- Connections from Input to Hidden Layer -->\n",
                            "    <!-- Input 1 to all hidden -->\n",
                            "    <line x1=\"105\" y1=\"100\" x2=\"275\" y2=\"80\" stroke=\"#999\" stroke-width=\"1.5\"/>\n",
                            "    <line x1=\"105\" y1=\"100\" x2=\"275\" y2=\"160\" stroke=\"#999\" stroke-width=\"1.5\"/>\n",
                            "    <line x1=\"105\" y1=\"100\" x2=\"275\" y2=\"240\" stroke=\"#999\" stroke-width=\"1.5\"/>\n",
                            "    <line x1=\"105\" y1=\"100\" x2=\"275\" y2=\"320\" stroke=\"#999\" stroke-width=\"1.5\"/>\n",
                            "    \n",
                            "    <!-- Input 2 to all hidden -->\n",
                            "    <line x1=\"105\" y1=\"190\" x2=\"275\" y2=\"80\" stroke=\"#999\" stroke-width=\"1.5\"/>\n",
                            "    <line x1=\"105\" y1=\"190\" x2=\"275\" y2=\"160\" stroke=\"#999\" stroke-width=\"1.5\"/>\n",
                            "    <line x1=\"105\" y1=\"190\" x2=\"275\" y2=\"240\" stroke=\"#999\" stroke-width=\"1.5\"/>\n",
                            "    <line x1=\"105\" y1=\"190\" x2=\"275\" y2=\"320\" stroke=\"#999\" stroke-width=\"1.5\"/>\n",
                            "    \n",
                            "    <!-- Input 3 to all hidden -->\n",
                            "    <line x1=\"105\" y1=\"280\" x2=\"275\" y2=\"80\" stroke=\"#999\" stroke-width=\"1.5\"/>\n",
                            "    <line x1=\"105\" y1=\"280\" x2=\"275\" y2=\"160\" stroke=\"#999\" stroke-width=\"1.5\"/>\n",
                            "    <line x1=\"105\" y1=\"280\" x2=\"275\" y2=\"240\" stroke=\"#999\" stroke-width=\"1.5\"/>\n",
                            "    <line x1=\"105\" y1=\"280\" x2=\"275\" y2=\"320\" stroke=\"#999\" stroke-width=\"1.5\"/>\n",
                            "\n",
                            "    <!-- Connections from Hidden to Output Layer -->\n",
                            "    <!-- All hidden to output 1 -->\n",
                            "    <line x1=\"325\" y1=\"80\" x2=\"495\" y2=\"140\" stroke=\"#999\" stroke-width=\"1.5\"/>\n",
                            "    <line x1=\"325\" y1=\"160\" x2=\"495\" y2=\"140\" stroke=\"#999\" stroke-width=\"1.5\"/>\n",
                            "    <line x1=\"325\" y1=\"240\" x2=\"495\" y2=\"140\" stroke=\"#999\" stroke-width=\"1.5\"/>\n",
                            "    <line x1=\"325\" y1=\"320\" x2=\"495\" y2=\"140\" stroke=\"#999\" stroke-width=\"1.5\"/>\n",
                            "    \n",
                            "    <!-- All hidden to output 2 -->\n",
                            "    <line x1=\"325\" y1=\"80\" x2=\"495\" y2=\"240\" stroke=\"#999\" stroke-width=\"1.5\"/>\n",
                            "    <line x1=\"325\" y1=\"160\" x2=\"495\" y2=\"240\" stroke=\"#999\" stroke-width=\"1.5\"/>\n",
                            "    <line x1=\"325\" y1=\"240\" x2=\"495\" y2=\"240\" stroke=\"#999\" stroke-width=\"1.5\"/>\n",
                            "    <line x1=\"325\" y1=\"320\" x2=\"495\" y2=\"240\" stroke=\"#999\" stroke-width=\"1.5\"/>\n",
                            "  </svg>\n",
                            "</div>\n",
                            "<div style=\"text-align:center; margin-bottom:30px; font-family:Arial;\">\n",
                            "  <em>Fig 1: Multilayer Perceptron with one hidden layer (3 inputs, 4 hidden neurons, 2 outputs)</em>\n",
                            "</div>\n"
                        ],
                        "text/plain": [
                            "<IPython.core.display.HTML object>"
                        ]
                    },
                    "metadata": {},
                    "output_type": "display_data"
                }
            ],
            "source": [
                "%%html\n",
                "<div style=\"display: flex; justify-content: center; margin: 20px;\">\n",
                "  <svg width=\"600\" height=\"380\" xmlns=\"http://www.w3.org/2000/svg\">\n",
                "    <!-- Layer Labels -->\n",
                "    <text x=\"80\" y=\"40\" font-family=\"Arial\" font-size=\"16\" text-anchor=\"middle\" font-weight=\"bold\">Input Layer</text>\n",
                "    <text x=\"300\" y=\"40\" font-family=\"Arial\" font-size=\"16\" text-anchor=\"middle\" font-weight=\"bold\">Hidden Layer</text>\n",
                "    <text x=\"520\" y=\"40\" font-family=\"Arial\" font-size=\"16\" text-anchor=\"middle\" font-weight=\"bold\">Output Layer</text>\n",
                "    \n",
                "    <!-- Input Layer Neurons -->\n",
                "    <circle cx=\"80\" cy=\"100\" r=\"25\" fill=\"#6495ED\" stroke=\"black\" stroke-width=\"2\"/>\n",
                "    <circle cx=\"80\" cy=\"190\" r=\"25\" fill=\"#6495ED\" stroke=\"black\" stroke-width=\"2\"/>\n",
                "    <circle cx=\"80\" cy=\"280\" r=\"25\" fill=\"#6495ED\" stroke=\"black\" stroke-width=\"2\"/>\n",
                "    <text x=\"80\" y=\"100\" font-family=\"Arial\" font-size=\"14\" text-anchor=\"middle\" dominant-baseline=\"middle\">x₁</text>\n",
                "    <text x=\"80\" y=\"190\" font-family=\"Arial\" font-size=\"14\" text-anchor=\"middle\" dominant-baseline=\"middle\">x₂</text>\n",
                "    <text x=\"80\" y=\"280\" font-family=\"Arial\" font-size=\"14\" text-anchor=\"middle\" dominant-baseline=\"middle\">x₃</text>\n",
                "\n",
                "    <!-- Hidden Layer Neurons -->\n",
                "    <circle cx=\"300\" cy=\"80\" r=\"25\" fill=\"#FFA500\" stroke=\"black\" stroke-width=\"2\"/>\n",
                "    <circle cx=\"300\" cy=\"160\" r=\"25\" fill=\"#FFA500\" stroke=\"black\" stroke-width=\"2\"/>\n",
                "    <circle cx=\"300\" cy=\"240\" r=\"25\" fill=\"#FFA500\" stroke=\"black\" stroke-width=\"2\"/>\n",
                "    <circle cx=\"300\" cy=\"320\" r=\"25\" fill=\"#FFA500\" stroke=\"black\" stroke-width=\"2\"/>\n",
                "    <text x=\"300\" y=\"80\" font-family=\"Arial\" font-size=\"14\" text-anchor=\"middle\" dominant-baseline=\"middle\">h₁</text>\n",
                "    <text x=\"300\" y=\"160\" font-family=\"Arial\" font-size=\"14\" text-anchor=\"middle\" dominant-baseline=\"middle\">h₂</text>\n",
                "    <text x=\"300\" y=\"240\" font-family=\"Arial\" font-size=\"14\" text-anchor=\"middle\" dominant-baseline=\"middle\">h₃</text>\n",
                "    <text x=\"300\" y=\"320\" font-family=\"Arial\" font-size=\"14\" text-anchor=\"middle\" dominant-baseline=\"middle\">h₄</text>\n",
                "\n",
                "    <!-- Output Layer Neurons -->\n",
                "    <circle cx=\"520\" cy=\"140\" r=\"25\" fill=\"#90EE90\" stroke=\"black\" stroke-width=\"2\"/>\n",
                "    <circle cx=\"520\" cy=\"240\" r=\"25\" fill=\"#90EE90\" stroke=\"black\" stroke-width=\"2\"/>\n",
                "    <text x=\"520\" y=\"140\" font-family=\"Arial\" font-size=\"14\" text-anchor=\"middle\" dominant-baseline=\"middle\">y₁</text>\n",
                "    <text x=\"520\" y=\"240\" font-family=\"Arial\" font-size=\"14\" text-anchor=\"middle\" dominant-baseline=\"middle\">y₂</text>\n",
                "\n",
                "    <!-- Connections from Input to Hidden Layer -->\n",
                "    <!-- Input 1 to all hidden -->\n",
                "    <line x1=\"105\" y1=\"100\" x2=\"275\" y2=\"80\" stroke=\"#999\" stroke-width=\"1.5\"/>\n",
                "    <line x1=\"105\" y1=\"100\" x2=\"275\" y2=\"160\" stroke=\"#999\" stroke-width=\"1.5\"/>\n",
                "    <line x1=\"105\" y1=\"100\" x2=\"275\" y2=\"240\" stroke=\"#999\" stroke-width=\"1.5\"/>\n",
                "    <line x1=\"105\" y1=\"100\" x2=\"275\" y2=\"320\" stroke=\"#999\" stroke-width=\"1.5\"/>\n",
                "    \n",
                "    <!-- Input 2 to all hidden -->\n",
                "    <line x1=\"105\" y1=\"190\" x2=\"275\" y2=\"80\" stroke=\"#999\" stroke-width=\"1.5\"/>\n",
                "    <line x1=\"105\" y1=\"190\" x2=\"275\" y2=\"160\" stroke=\"#999\" stroke-width=\"1.5\"/>\n",
                "    <line x1=\"105\" y1=\"190\" x2=\"275\" y2=\"240\" stroke=\"#999\" stroke-width=\"1.5\"/>\n",
                "    <line x1=\"105\" y1=\"190\" x2=\"275\" y2=\"320\" stroke=\"#999\" stroke-width=\"1.5\"/>\n",
                "    \n",
                "    <!-- Input 3 to all hidden -->\n",
                "    <line x1=\"105\" y1=\"280\" x2=\"275\" y2=\"80\" stroke=\"#999\" stroke-width=\"1.5\"/>\n",
                "    <line x1=\"105\" y1=\"280\" x2=\"275\" y2=\"160\" stroke=\"#999\" stroke-width=\"1.5\"/>\n",
                "    <line x1=\"105\" y1=\"280\" x2=\"275\" y2=\"240\" stroke=\"#999\" stroke-width=\"1.5\"/>\n",
                "    <line x1=\"105\" y1=\"280\" x2=\"275\" y2=\"320\" stroke=\"#999\" stroke-width=\"1.5\"/>\n",
                "\n",
                "    <!-- Connections from Hidden to Output Layer -->\n",
                "    <!-- All hidden to output 1 -->\n",
                "    <line x1=\"325\" y1=\"80\" x2=\"495\" y2=\"140\" stroke=\"#999\" stroke-width=\"1.5\"/>\n",
                "    <line x1=\"325\" y1=\"160\" x2=\"495\" y2=\"140\" stroke=\"#999\" stroke-width=\"1.5\"/>\n",
                "    <line x1=\"325\" y1=\"240\" x2=\"495\" y2=\"140\" stroke=\"#999\" stroke-width=\"1.5\"/>\n",
                "    <line x1=\"325\" y1=\"320\" x2=\"495\" y2=\"140\" stroke=\"#999\" stroke-width=\"1.5\"/>\n",
                "    \n",
                "    <!-- All hidden to output 2 -->\n",
                "    <line x1=\"325\" y1=\"80\" x2=\"495\" y2=\"240\" stroke=\"#999\" stroke-width=\"1.5\"/>\n",
                "    <line x1=\"325\" y1=\"160\" x2=\"495\" y2=\"240\" stroke=\"#999\" stroke-width=\"1.5\"/>\n",
                "    <line x1=\"325\" y1=\"240\" x2=\"495\" y2=\"240\" stroke=\"#999\" stroke-width=\"1.5\"/>\n",
                "    <line x1=\"325\" y1=\"320\" x2=\"495\" y2=\"240\" stroke=\"#999\" stroke-width=\"1.5\"/>\n",
                "  </svg>\n",
                "</div>\n",
                "<div style=\"text-align:center; margin-bottom:30px; font-family:Arial;\">\n",
                "  <em>Fig 1: Multilayer Perceptron with one hidden layer (3 inputs, 4 hidden neurons, 2 outputs)</em>\n",
                "</div>"
            ]
        },
        {
            "cell_type": "markdown",
            "metadata": {},
            "source": [
                "## Implementation Using Modern Frameworks\n",
                "\n",
                "In practice, MLPs are typically implemented using deep learning frameworks. Here's how you can create an MLP using PyTorch and TensorFlow/Keras:"
            ]
        },
        {
            "cell_type": "markdown",
            "metadata": {},
            "source": [
                "### PyTorch Implementation"
            ]
        },
        {
            "cell_type": "code",
            "execution_count": 17,
            "metadata": {},
            "outputs": [
                {
                    "name": "stdout",
                    "output_type": "stream",
                    "text": [
                        "Epoch 0, Loss: 0.2619\n",
                        "Epoch 1000, Loss: 0.2235\n",
                        "Epoch 2000, Loss: 0.0146\n",
                        "Epoch 3000, Loss: 0.0042\n",
                        "Epoch 4000, Loss: 0.0023\n",
                        "Epoch 5000, Loss: 0.0016\n",
                        "Epoch 6000, Loss: 0.0012\n",
                        "Epoch 7000, Loss: 0.0009\n",
                        "Epoch 8000, Loss: 0.0008\n",
                        "Epoch 9000, Loss: 0.0007\n",
                        "\n",
                        "PyTorch Model Predictions:\n",
                        "Input: [0 0], Target: 0, Prediction: 0.0188, Rounded: 0\n",
                        "Input: [0 1], Target: 1, Prediction: 0.9765, Rounded: 1\n",
                        "Input: [1 0], Target: 1, Prediction: 0.9749, Rounded: 1\n",
                        "Input: [1 1], Target: 0, Prediction: 0.0275, Rounded: 0\n"
                    ]
                }
            ],
            "source": [
                "import torch\n",
                "import torch.nn as nn\n",
                "import torch.optim as optim\n",
                "\n",
                "# Define the XOR problem data\n",
                "X = np.array([[0, 0], [0, 1], [1, 0], [1, 1]])\n",
                "y = np.array([[0], [1], [1], [0]])\n",
                "\n",
                "# Define the model\n",
                "class PyTorchMLP(nn.Module):\n",
                "    def __init__(self, input_size, hidden_size, output_size):\n",
                "        super(PyTorchMLP, self).__init__()\n",
                "        self.fc1 = nn.Linear(input_size, hidden_size)\n",
                "        self.sigmoid = nn.Sigmoid()\n",
                "        self.fc2 = nn.Linear(hidden_size, output_size)\n",
                "        \n",
                "    def forward(self, x):\n",
                "        x = self.fc1(x)\n",
                "        x = self.sigmoid(x)\n",
                "        x = self.fc2(x)\n",
                "        x = self.sigmoid(x)\n",
                "        return x\n",
                "\n",
                "# Create model, loss function, and optimizer\n",
                "model = PyTorchMLP(input_size=2, hidden_size=4, output_size=1)\n",
                "criterion = nn.MSELoss()\n",
                "optimizer = optim.SGD(model.parameters(), lr=0.5)\n",
                "\n",
                "# Convert data to PyTorch tensors\n",
                "X_tensor = torch.FloatTensor(X)\n",
                "y_tensor = torch.FloatTensor(y)\n",
                "\n",
                "# Train the model\n",
                "epochs = 10000\n",
                "for epoch in range(epochs):\n",
                "    # Forward pass\n",
                "    outputs = model(X_tensor)\n",
                "    loss = criterion(outputs, y_tensor)\n",
                "    \n",
                "    # Backward pass and optimize\n",
                "    optimizer.zero_grad()\n",
                "    loss.backward()\n",
                "    optimizer.step()\n",
                "    \n",
                "    # Print loss every 1000 epochs\n",
                "    if epoch % 1000 == 0:\n",
                "        print(f'Epoch {epoch}, Loss: {loss.item():.4f}')\n",
                "\n",
                "# Test the model\n",
                "with torch.no_grad():\n",
                "    test_outputs = model(X_tensor)\n",
                "    print(\"\\nPyTorch Model Predictions:\")\n",
                "    for i in range(len(X)): \n",
                "        print(f\"Input: {X[i]}, Target: {y[i][0]}, Prediction: {test_outputs[i].item():.4f}, Rounded: {round(test_outputs[i].item())}\")"
            ]
        },
        {
            "cell_type": "markdown",
            "metadata": {},
            "source": [
                "## Visualizing Decision Boundaries\n",
                "\n",
                "Let's visualize how our MLP has learned to separate the XOR problem:"
            ]
        },
        {
            "cell_type": "code",
            "execution_count": 18,
            "metadata": {},
            "outputs": [
                {
                    "data": {
                        "image/png": "[encoded data removed]",
                        "text/plain": [
                            "<Figure size 800x600 with 1 Axes>"
                        ]
                    },
                    "metadata": {},
                    "output_type": "display_data"
                }
            ],
            "source": [
                "import matplotlib.pyplot as plt\n",
                "from matplotlib.colors import ListedColormap\n",
                "import numpy as np\n",
                "\n",
                "# Create a mesh grid\n",
                "h = 0.01\n",
                "x_min, x_max = -0.5, 1.5\n",
                "y_min, y_max = -0.5, 1.5\n",
                "xx, yy = np.meshgrid(np.arange(x_min, x_max, h),\n",
                "                     np.arange(y_min, y_max, h))\n",
                "\n",
                "# Create input data for prediction\n",
                "grid_points = np.c_[xx.ravel(), yy.ravel()]\n",
                "\n",
                "# Get predictions from our PyTorch model\n",
                "grid_tensor = torch.FloatTensor(grid_points)\n",
                "with torch.no_grad():\n",
                "    Z = model(grid_tensor).numpy()\n",
                "Z = Z.reshape(xx.shape)\n",
                "\n",
                "# Plot the decision boundary\n",
                "plt.figure(figsize=(8, 6))\n",
                "plt.contourf(xx, yy, Z, cmap=plt.cm.RdBu, alpha=0.8)\n",
                "plt.contour(xx, yy, Z, levels=[0.5], colors='k', linestyles='-')\n",
                "\n",
                "# Plot the training points\n",
                "plt.scatter(X[:, 0], X[:, 1], c=y.flatten(), cmap=ListedColormap(['red', 'blue']), edgecolors='k', s=100)\n",
                "\n",
                "plt.xlim(xx.min(), xx.max())\n",
                "plt.ylim(yy.min(), yy.max())\n",
                "plt.title('MLP Decision Boundary for XOR Problem')\n",
                "plt.xlabel('Feature 1')\n",
                "plt.ylabel('Feature 2')\n",
                "plt.show()"
            ]
        },
        {
            "cell_type": "markdown",
            "metadata": {},
            "source": [
                "## Applications of MLPs\n",
                "\n",
                "Multilayer Perceptrons have been applied to many problems including:\n",
                "\n",
                "1. **Classification**: Handwritten digit recognition, spam detection, sentiment analysis\n",
                "2. **Regression**: Price prediction, demand forecasting\n",
                "3. **Pattern Recognition**: Speech recognition, image classification\n",
                "4. **Function Approximation**: Modeling complex relationships between variables\n",
                "\n",
                "Despite being largely superseded by more specialized architectures for specific tasks, MLPs remain a fundamental building block in many neural network designs and are often used as baseline models."
            ]
        },
        {
            "cell_type": "markdown",
            "metadata": {},
            "source": [
                "## Advantages and Limitations\n",
                "\n",
                "### Advantages\n",
                "- Universal function approximators (can approximate any continuous function)\n",
                "- Simple to understand and implement\n",
                "- Work well for tabular data with clear feature relationships\n",
                "- Require relatively little preprocessing compared to other algorithms\n",
                "\n",
                "### Limitations\n",
                "- No spatial awareness (for images) or temporal awareness (for sequences)\n",
                "- Prone to overfitting with limited data\n",
                "- All neurons between layers must be connected, leading to many parameters\n",
                "- Struggle with very high-dimensional data\n",
                "- No built-in feature extraction capability\n",
                "\n",
                "These limitations led to the development of specialized architectures like CNNs for images and RNNs/Transformers for sequential data."
            ]
        },
        {
            "cell_type": "markdown",
            "metadata": {},
            "source": [
                "## Further Reading\n",
                "\n",
                "1. Rosenblatt, F. (1958). \"The perceptron: A probabilistic model for information storage and organization in the brain.\" *Psychological Review*, 65(6), 386–408.\n",
                "2. Rumelhart, D. E., Hinton, G. E., & Williams, R. J. (1986). \"Learning representations by back-propagating errors.\" *Nature*, 323(6088), 533–536.\n",
                "3. Hornik, K. (1991). \"Approximation capabilities of multilayer feedforward networks.\" *Neural Networks*, 4(2), 251–257.\n",
                "4. Goodfellow, I., Bengio, Y., & Courville, A. (2016). *Deep Learning*. MIT Press."
            ]
        }
    ],
    "metadata": {
        "kernelspec": {
            "display_name": "py312sb3",
            "language": "python",
            "name": "python3"
        },
        "language_info": {
            "codemirror_mode": {
                "name": "ipython",
                "version": 3
            },
            "file_extension": ".py",
            "mimetype": "text/x-python",
            "name": "python",
            "nbconvert_exporter": "python",
            "pygments_lexer": "ipython3",
            "version": "3.12.3"
        }
    },
    "nbformat": 4,
    "nbformat_minor": 2
}
