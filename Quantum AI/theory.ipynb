{
 "cells": [
  {
   "cell_type": "markdown",
   "id": "abf0df33",
   "metadata": {},
   "source": [
    "# Quantum AI: An Introduction\n",
    "\n",
    "This notebook explores the intersection of quantum computing and artificial intelligence, commonly referred to as Quantum AI. We'll cover fundamental concepts, potential applications, and demonstrate basic implementations using open-source quantum computing frameworks."
   ]
  },
  {
   "cell_type": "markdown",
   "id": "524d14c3",
   "metadata": {},
   "source": [
    "## Foundations of Quantum Physics\n",
    "\n",
    "Before diving into quantum computing and AI, it's essential to understand the basic principles of quantum physics that make quantum computing possible.\n",
    "\n",
    "### Wave-Particle Duality\n",
    "\n",
    "Quantum physics reveals that all particles (like electrons, photons) exhibit both wave-like and particle-like properties. This duality is demonstrated in the famous double-slit experiment where particles create an interference pattern when passing through two slits, behaving like waves, but are detected as individual particles.\n",
    "\n",
    "### Heisenberg's Uncertainty Principle\n",
    "\n",
    "This principle states that there is a fundamental limit to the precision with which complementary variables (such as position and momentum) can be known simultaneously. Mathematically:\n",
    "\n",
    "$$\\Delta x \\Delta p \\geq \\frac{\\hbar}{2}$$\n",
    "\n",
    "Where $\\Delta x$ is the uncertainty in position, $\\Delta p$ is the uncertainty in momentum, and $\\hbar$ is the reduced Planck constant.\n",
    "\n",
    "### Quantum Superposition\n",
    "\n",
    "Quantum systems can exist in multiple states simultaneously until measured. This is the foundation of quantum bits (qubits) being able to represent both 0 and 1 simultaneously, unlike classical bits.\n",
    "\n",
    "### Quantum Entanglement\n",
    "\n",
    "When particles become entangled, the quantum state of each particle cannot be described independently of the others, regardless of the distance separating them. Einstein referred to this as \"spooky action at a distance.\"\n",
    "\n",
    "### Quantum Measurement\n",
    "\n",
    "In quantum systems, the act of measurement causes the wave function to collapse to one of its possible states. Before measurement, the system exists in a probabilistic superposition of states."
   ]
  },
  {
   "cell_type": "markdown",
   "id": "96e2c22d",
   "metadata": {},
   "source": [
    "## Mathematics of Quantum Computing\n",
    "\n",
    "Quantum computing relies heavily on linear algebra and complex vector spaces. Here are the key mathematical concepts:\n",
    "\n",
    "### Hilbert Space\n",
    "\n",
    "Quantum states are represented as vectors in a complex vector space called Hilbert space. For a qubit, this is a 2-dimensional complex vector space.\n",
    "\n",
    "### Dirac Notation (Bra-Ket)\n",
    "\n",
    "Quantum states are typically written using Dirac notation:\n",
    "- Ket: $|\\psi\\rangle$ represents a quantum state vector\n",
    "- Bra: $\\langle\\psi|$ represents the complex conjugate transpose of the ket\n",
    "- Inner product: $\\langle\\phi|\\psi\\rangle$ represents the inner product of two states\n",
    "\n",
    "### Quantum State Representation\n",
    "\n",
    "A single qubit state is represented as:\n",
    "\n",
    "$$|\\psi\\rangle = \\alpha|0\\rangle + \\beta|1\\rangle$$\n",
    "\n",
    "where $\\alpha$ and $\\beta$ are complex amplitudes and $|\\alpha|^2 + |\\beta|^2 = 1$.\n",
    "\n",
    "The basis states $|0\\rangle$ and $|1\\rangle$ can be represented as vectors:\n",
    "\n",
    "$$|0\\rangle = \\begin{bmatrix} 1 \\\\ 0 \\end{bmatrix}, \\quad |1\\rangle = \\begin{bmatrix} 0 \\\\ 1 \\end{bmatrix}$$\n",
    "\n",
    "<img src=\"https://upload.wikimedia.org/wikipedia/commons/thumb/e/e9/Sphere_bloch.jpg/640px-Sphere_bloch.jpg\" alt=\"bloch sphere\" width=\"320\" height=\"320\">\n",
    "\n",
    "### Quantum Operators\n",
    "\n",
    "Quantum operations are represented by unitary matrices (matrices whose inverse equals their conjugate transpose):\n",
    "\n",
    "$$U^\\dagger U = UU^\\dagger = I$$\n",
    "\n",
    "Common quantum gates represented as matrices include:\n",
    "\n",
    "**Pauli-X (NOT gate):**\n",
    "$$X = \\begin{bmatrix} 0 & 1 \\\\ 1 & 0 \\end{bmatrix}$$\n",
    "\n",
    "The Pauli-X gate performs a bit-flip operation, converting $|0\\rangle$ to $|1\\rangle$ and vice versa:"
   ]
  },
  {
   "cell_type": "markdown",
   "id": "0ed7aab6",
   "metadata": {},
   "source": [
    "**Hadamard gate:**\n",
    "$$H = \\frac{1}{\\sqrt{2}}\\begin{bmatrix} 1 & 1 \\\\ 1 & -1 \\end{bmatrix}$$\n",
    "\n",
    "The Hadamard gate creates a superposition by transforming basis states into equal superpositions:"
   ]
  },
  {
   "cell_type": "markdown",
   "id": "3618366d",
   "metadata": {},
   "source": [
    "**Pauli-Z gate:**\n",
    "$$Z = \\begin{bmatrix} 1 & 0 \\\\ 0 & -1 \\end{bmatrix}$$\n",
    "\n",
    "The Pauli-Z gate applies a phase flip, leaving |0⟩ unchanged but adding a negative phase to |1⟩:"
   ]
  },
  {
   "cell_type": "markdown",
   "id": "a1933ca1",
   "metadata": {},
   "source": [
    "<img src=\"https://upload.wikimedia.org/wikipedia/commons/thumb/e/e0/Quantum_Logic_Gates.png/640px-Quantum_Logic_Gates.png\" alt=\"quantum gates\">\n",
    "\n",
    "### Tensor Products\n",
    "\n",
    "Multi-qubit systems are represented using tensor products. For two qubits:\n",
    "\n",
    "$$|\\psi\\rangle \\otimes |\\phi\\rangle = |\\psi\\phi\\rangle$$\n",
    "\n",
    "For example, $|00\\rangle = |0\\rangle \\otimes |0\\rangle = \\begin{bmatrix} 1 \\\\ 0 \\\\ 0 \\\\ 0 \\end{bmatrix}$"
   ]
  },
  {
   "cell_type": "markdown",
   "id": "0308f055",
   "metadata": {},
   "source": [
    "## Fundamental Quantum Algorithms\n",
    "\n",
    "Several landmark algorithms demonstrate quantum computing's potential advantages over classical computing:\n",
    "\n",
    "### Deutsch-Jozsa Algorithm\n",
    "\n",
    "One of the first quantum algorithms to demonstrate a quantum speedup. The algorithm determines if a function is constant or balanced with a single evaluation, whereas classical algorithms might need up to $2^{n-1}+1$ evaluations in the worst case.\n",
    "\n",
    "### Grover's Search Algorithm\n",
    "\n",
    "Provides a quadratic speedup for unstructured search problems, finding an item in an unsorted database of size $N$ with approximately $\\sqrt{N}$ operations, compared to $N/2$ operations on average for classical search.\n",
    "\n",
    "### Quantum Fourier Transform\n",
    "\n",
    "The quantum version of the discrete Fourier transform, which transforms between time and frequency domains. It's a building block for many quantum algorithms including Shor's algorithm.\n",
    "\n",
    "### Shor's Algorithm\n",
    "\n",
    "A quantum algorithm for integer factorization that runs in polynomial time, exponentially faster than the best-known classical algorithms. This has significant implications for cryptography, as many security systems rely on the difficulty of factoring large numbers.\n",
    "\n",
    "### Quantum Phase Estimation\n",
    "\n",
    "Determines the eigenvalue (phase) of an eigenvector of a unitary operator. It's a key component in many quantum algorithms including Shor's algorithm and quantum simulation algorithms."
   ]
  },
  {
   "cell_type": "markdown",
   "id": "cbe37758",
   "metadata": {},
   "source": [
    "## What is Quantum AI?\n",
    "\n",
    "Quantum AI refers to the use of quantum computing to perform computations for machine learning algorithms. It leverages quantum phenomena such as:\n",
    "\n",
    "- **Superposition**: Quantum bits (qubits) can exist in multiple states simultaneously\n",
    "- **Entanglement**: Quantum states of multiple qubits can become correlated\n",
    "- **Quantum Interference**: Quantum states can interfere constructively or destructively\n",
    "\n",
    "These properties potentially enable quantum computers to solve certain problems exponentially faster than classical computers, particularly for specific AI applications."
   ]
  },
  {
   "cell_type": "markdown",
   "id": "639cf350",
   "metadata": {},
   "source": [
    "## Setting Up Quantum Computing Environment\n",
    "\n",
    "Let's start by installing and importing the necessary libraries. We'll use Qiskit (IBM's quantum computing framework) and PennyLane (a cross-platform library for quantum machine learning)."
   ]
  },
  {
   "cell_type": "code",
   "execution_count": 102,
   "id": "1a7eee58",
   "metadata": {},
   "outputs": [
    {
     "name": "stdout",
     "output_type": "stream",
     "text": [
      "Requirement already satisfied: qiskit in c:\\users\\hjeong\\anaconda3\\envs\\py312sb3\\lib\\site-packages (2.0.0)\n",
      "Requirement already satisfied: qiskit-aer in c:\\users\\hjeong\\anaconda3\\envs\\py312sb3\\lib\\site-packages (0.17.0)\n",
      "Requirement already satisfied: pennylane in c:\\users\\hjeong\\anaconda3\\envs\\py312sb3\\lib\\site-packages (0.41.0)\n",
      "Requirement already satisfied: numpy in c:\\users\\hjeong\\anaconda3\\envs\\py312sb3\\lib\\site-packages (2.1.3)\n",
      "Requirement already satisfied: matplotlib in c:\\users\\hjeong\\anaconda3\\envs\\py312sb3\\lib\\site-packages (3.10.0)\n",
      "Requirement already satisfied: rustworkx>=0.15.0 in c:\\users\\hjeong\\anaconda3\\envs\\py312sb3\\lib\\site-packages (from qiskit) (0.16.0)\n",
      "Requirement already satisfied: scipy>=1.5 in c:\\users\\hjeong\\anaconda3\\envs\\py312sb3\\lib\\site-packages (from qiskit) (1.13.1)\n",
      "Requirement already satisfied: sympy>=1.3 in c:\\users\\hjeong\\anaconda3\\envs\\py312sb3\\lib\\site-packages (from qiskit) (1.13.1)\n",
      "Requirement already satisfied: dill>=0.3 in c:\\users\\hjeong\\anaconda3\\envs\\py312sb3\\lib\\site-packages (from qiskit) (0.3.8)\n",
      "Requirement already satisfied: python-dateutil>=2.8.0 in c:\\users\\hjeong\\anaconda3\\envs\\py312sb3\\lib\\site-packages (from qiskit) (2.9.0.post0)\n",
      "Requirement already satisfied: stevedore>=3.0.0 in c:\\users\\hjeong\\anaconda3\\envs\\py312sb3\\lib\\site-packages (from qiskit) (5.4.1)\n",
      "Requirement already satisfied: typing-extensions in c:\\users\\hjeong\\anaconda3\\envs\\py312sb3\\lib\\site-packages (from qiskit) (4.13.1)\n",
      "Requirement already satisfied: symengine<0.14,>=0.11 in c:\\users\\hjeong\\anaconda3\\envs\\py312sb3\\lib\\site-packages (from qiskit) (0.11.0)\n",
      "Requirement already satisfied: psutil>=5 in c:\\users\\hjeong\\anaconda3\\envs\\py312sb3\\lib\\site-packages (from qiskit-aer) (5.9.0)\n",
      "Requirement already satisfied: networkx in c:\\users\\hjeong\\anaconda3\\envs\\py312sb3\\lib\\site-packages (from pennylane) (3.4.2)\n",
      "Requirement already satisfied: autograd in c:\\users\\hjeong\\anaconda3\\envs\\py312sb3\\lib\\site-packages (from pennylane) (1.7.0)\n",
      "Requirement already satisfied: tomlkit in c:\\users\\hjeong\\anaconda3\\envs\\py312sb3\\lib\\site-packages (from pennylane) (0.13.2)\n",
      "Requirement already satisfied: appdirs in c:\\users\\hjeong\\anaconda3\\envs\\py312sb3\\lib\\site-packages (from pennylane) (1.4.4)\n",
      "Requirement already satisfied: autoray>=0.6.11 in c:\\users\\hjeong\\anaconda3\\envs\\py312sb3\\lib\\site-packages (from pennylane) (0.7.1)\n",
      "Requirement already satisfied: cachetools in c:\\users\\hjeong\\anaconda3\\envs\\py312sb3\\lib\\site-packages (from pennylane) (5.5.2)\n",
      "Requirement already satisfied: pennylane-lightning>=0.41 in c:\\users\\hjeong\\anaconda3\\envs\\py312sb3\\lib\\site-packages (from pennylane) (0.41.0)\n",
      "Requirement already satisfied: requests in c:\\users\\hjeong\\anaconda3\\envs\\py312sb3\\lib\\site-packages (from pennylane) (2.32.3)\n",
      "Requirement already satisfied: packaging in c:\\users\\hjeong\\anaconda3\\envs\\py312sb3\\lib\\site-packages (from pennylane) (24.2)\n",
      "Requirement already satisfied: diastatic-malt in c:\\users\\hjeong\\anaconda3\\envs\\py312sb3\\lib\\site-packages (from pennylane) (2.15.2)\n",
      "Requirement already satisfied: contourpy>=1.0.1 in c:\\users\\hjeong\\anaconda3\\envs\\py312sb3\\lib\\site-packages (from matplotlib) (1.3.1)\n",
      "Requirement already satisfied: cycler>=0.10 in c:\\users\\hjeong\\anaconda3\\envs\\py312sb3\\lib\\site-packages (from matplotlib) (0.11.0)\n",
      "Requirement already satisfied: fonttools>=4.22.0 in c:\\users\\hjeong\\anaconda3\\envs\\py312sb3\\lib\\site-packages (from matplotlib) (4.55.3)\n",
      "Requirement already satisfied: kiwisolver>=1.3.1 in c:\\users\\hjeong\\anaconda3\\envs\\py312sb3\\lib\\site-packages (from matplotlib) (1.4.8)\n",
      "Requirement already satisfied: pillow>=8 in c:\\users\\hjeong\\anaconda3\\envs\\py312sb3\\lib\\site-packages (from matplotlib) (9.5.0)\n",
      "Requirement already satisfied: pyparsing>=2.3.1 in c:\\users\\hjeong\\anaconda3\\envs\\py312sb3\\lib\\site-packages (from matplotlib) (3.2.0)\n",
      "Requirement already satisfied: scipy-openblas32>=0.3.26 in c:\\users\\hjeong\\anaconda3\\envs\\py312sb3\\lib\\site-packages (from pennylane-lightning>=0.41->pennylane) (0.3.29.0.0)\n",
      "Requirement already satisfied: six>=1.5 in c:\\users\\hjeong\\anaconda3\\envs\\py312sb3\\lib\\site-packages (from python-dateutil>=2.8.0->qiskit) (1.17.0)\n",
      "Requirement already satisfied: pbr>=2.0.0 in c:\\users\\hjeong\\anaconda3\\envs\\py312sb3\\lib\\site-packages (from stevedore>=3.0.0->qiskit) (5.6.0)\n",
      "Requirement already satisfied: mpmath<1.4,>=1.1.0 in c:\\users\\hjeong\\anaconda3\\envs\\py312sb3\\lib\\site-packages (from sympy>=1.3->qiskit) (1.3.0)\n",
      "Requirement already satisfied: astunparse in c:\\users\\hjeong\\anaconda3\\envs\\py312sb3\\lib\\site-packages (from diastatic-malt->pennylane) (1.6.3)\n",
      "Requirement already satisfied: gast in c:\\users\\hjeong\\anaconda3\\envs\\py312sb3\\lib\\site-packages (from diastatic-malt->pennylane) (0.6.0)\n",
      "Requirement already satisfied: termcolor in c:\\users\\hjeong\\anaconda3\\envs\\py312sb3\\lib\\site-packages (from diastatic-malt->pennylane) (3.0.1)\n",
      "Requirement already satisfied: wheel<1.0,>=0.23.0 in c:\\users\\hjeong\\anaconda3\\envs\\py312sb3\\lib\\site-packages (from astunparse->diastatic-malt->pennylane) (0.45.1)\n",
      "Requirement already satisfied: charset-normalizer<4,>=2 in c:\\users\\hjeong\\anaconda3\\envs\\py312sb3\\lib\\site-packages (from requests->pennylane) (3.4.1)\n",
      "Requirement already satisfied: idna<4,>=2.5 in c:\\users\\hjeong\\anaconda3\\envs\\py312sb3\\lib\\site-packages (from requests->pennylane) (3.10)\n",
      "Requirement already satisfied: urllib3<3,>=1.21.1 in c:\\users\\hjeong\\anaconda3\\envs\\py312sb3\\lib\\site-packages (from requests->pennylane) (2.3.0)\n",
      "Requirement already satisfied: certifi>=2017.4.17 in c:\\users\\hjeong\\anaconda3\\envs\\py312sb3\\lib\\site-packages (from requests->pennylane) (2025.4.26)\n",
      "Note: you may need to restart the kernel to use updated packages.\n"
     ]
    }
   ],
   "source": [
    "# Install required packages\n",
    "%pip install qiskit qiskit-aer pennylane numpy matplotlib"
   ]
  },
  {
   "cell_type": "code",
   "execution_count": 103,
   "id": "2f73fe6f",
   "metadata": {},
   "outputs": [
    {
     "name": "stdout",
     "output_type": "stream",
     "text": [
      "Requirement already satisfied: pylatexenc in c:\\users\\hjeong\\anaconda3\\envs\\py312sb3\\lib\\site-packages (2.10)\n",
      "Requirement already satisfied: matplotlib-inline in c:\\users\\hjeong\\anaconda3\\envs\\py312sb3\\lib\\site-packages (0.1.7)\n",
      "Requirement already satisfied: ipywidgets in c:\\users\\hjeong\\anaconda3\\envs\\py312sb3\\lib\\site-packages (8.1.5)\n",
      "Requirement already satisfied: traitlets in c:\\users\\hjeong\\anaconda3\\envs\\py312sb3\\lib\\site-packages (from matplotlib-inline) (5.14.3)\n",
      "Requirement already satisfied: comm>=0.1.3 in c:\\users\\hjeong\\anaconda3\\envs\\py312sb3\\lib\\site-packages (from ipywidgets) (0.2.2)\n",
      "Requirement already satisfied: ipython>=6.1.0 in c:\\users\\hjeong\\anaconda3\\envs\\py312sb3\\lib\\site-packages (from ipywidgets) (8.32.0)\n",
      "Requirement already satisfied: widgetsnbextension~=4.0.12 in c:\\users\\hjeong\\anaconda3\\envs\\py312sb3\\lib\\site-packages (from ipywidgets) (4.0.13)\n",
      "Requirement already satisfied: jupyterlab-widgets~=3.0.12 in c:\\users\\hjeong\\anaconda3\\envs\\py312sb3\\lib\\site-packages (from ipywidgets) (3.0.13)\n",
      "Requirement already satisfied: colorama in c:\\users\\hjeong\\anaconda3\\envs\\py312sb3\\lib\\site-packages (from ipython>=6.1.0->ipywidgets) (0.4.6)\n",
      "Requirement already satisfied: decorator in c:\\users\\hjeong\\anaconda3\\envs\\py312sb3\\lib\\site-packages (from ipython>=6.1.0->ipywidgets) (5.1.1)\n",
      "Requirement already satisfied: jedi>=0.16 in c:\\users\\hjeong\\anaconda3\\envs\\py312sb3\\lib\\site-packages (from ipython>=6.1.0->ipywidgets) (0.19.2)\n",
      "Requirement already satisfied: prompt_toolkit<3.1.0,>=3.0.41 in c:\\users\\hjeong\\anaconda3\\envs\\py312sb3\\lib\\site-packages (from ipython>=6.1.0->ipywidgets) (3.0.50)\n",
      "Requirement already satisfied: pygments>=2.4.0 in c:\\users\\hjeong\\anaconda3\\envs\\py312sb3\\lib\\site-packages (from ipython>=6.1.0->ipywidgets) (2.19.1)\n",
      "Requirement already satisfied: stack_data in c:\\users\\hjeong\\anaconda3\\envs\\py312sb3\\lib\\site-packages (from ipython>=6.1.0->ipywidgets) (0.6.3)\n",
      "Requirement already satisfied: wcwidth in c:\\users\\hjeong\\anaconda3\\envs\\py312sb3\\lib\\site-packages (from prompt_toolkit<3.1.0,>=3.0.41->ipython>=6.1.0->ipywidgets) (0.2.13)\n",
      "Requirement already satisfied: parso<0.9.0,>=0.8.4 in c:\\users\\hjeong\\anaconda3\\envs\\py312sb3\\lib\\site-packages (from jedi>=0.16->ipython>=6.1.0->ipywidgets) (0.8.4)\n",
      "Requirement already satisfied: executing>=1.2.0 in c:\\users\\hjeong\\anaconda3\\envs\\py312sb3\\lib\\site-packages (from stack_data->ipython>=6.1.0->ipywidgets) (2.1.0)\n",
      "Requirement already satisfied: asttokens>=2.1.0 in c:\\users\\hjeong\\anaconda3\\envs\\py312sb3\\lib\\site-packages (from stack_data->ipython>=6.1.0->ipywidgets) (3.0.0)\n",
      "Requirement already satisfied: pure_eval in c:\\users\\hjeong\\anaconda3\\envs\\py312sb3\\lib\\site-packages (from stack_data->ipython>=6.1.0->ipywidgets) (0.2.3)\n",
      "Note: you may need to restart the kernel to use updated packages.\n"
     ]
    }
   ],
   "source": [
    "# Install visualization dependencies\n",
    "%pip install pylatexenc matplotlib-inline ipywidgets"
   ]
  },
  {
   "cell_type": "code",
   "execution_count": 104,
   "id": "40bc06fd",
   "metadata": {},
   "outputs": [
    {
     "name": "stdout",
     "output_type": "stream",
     "text": [
      "pylatexenc version: 2.10\n",
      "matplotlib version: 3.10.0\n",
      "All visualization dependencies are properly installed.\n"
     ]
    }
   ],
   "source": [
    "# Verify pylatexenc installation and other dependencies\n",
    "import sys\n",
    "try:\n",
    "    import pylatexenc\n",
    "    print(f\"pylatexenc version: {pylatexenc.__version__}\")\n",
    "    import matplotlib\n",
    "    print(f\"matplotlib version: {matplotlib.__version__}\")\n",
    "    print(\"All visualization dependencies are properly installed.\")\n",
    "except ImportError as e:\n",
    "    print(f\"Error: {e}\")\n",
    "    print(\"Installing missing dependencies...\")\n",
    "    %pip install pylatexenc matplotlib-inline ipywidgets --quiet\n",
    "    print(\"Please restart the kernel after installation.\")"
   ]
  },
  {
   "cell_type": "code",
   "execution_count": 105,
   "id": "272948ec",
   "metadata": {},
   "outputs": [],
   "source": [
    "# Import libraries\n",
    "import numpy as np\n",
    "import matplotlib.pyplot as plt\n",
    "\n",
    "# Qiskit imports\n",
    "from qiskit import QuantumCircuit\n",
    "from qiskit_aer import Aer\n",
    "from qiskit.visualization import plot_histogram\n",
    "\n",
    "# PennyLane imports\n",
    "import pennylane as qml"
   ]
  },
  {
   "cell_type": "markdown",
   "id": "7c4e82c6",
   "metadata": {},
   "source": [
    "## Key Concepts in Quantum Computing for AI\n",
    "\n",
    "### 1. Quantum Bits (Qubits)\n",
    "\n",
    "Unlike classical bits that can be either 0 or 1, qubits can exist in a superposition of states, represented as:\n",
    "\n",
    "$$|\\psi\\rangle = \\alpha|0\\rangle + \\beta|1\\rangle$$\n",
    "\n",
    "where $\\alpha$ and $\\beta$ are complex numbers and $|\\alpha|^2 + |\\beta|^2 = 1$."
   ]
  },
  {
   "cell_type": "code",
   "execution_count": 106,
   "id": "fe591288",
   "metadata": {},
   "outputs": [
    {
     "name": "stdout",
     "output_type": "stream",
     "text": [
      "Circuit representation:\n",
      "     ┌───┐┌─┐\n",
      "  q: ┤ H ├┤M├\n",
      "     └───┘└╥┘\n",
      "c: 1/══════╩═\n",
      "           0 \n",
      "Visualization error: \"The 'pylatexenc' library is required to use 'MatplotlibDrawer'. You can install it with 'pip install pylatexenc'.\"\n",
      "Displaying text representation instead.\n"
     ]
    },
    {
     "data": {
      "image/png": "[encoded data removed]",
      "text/plain": [
       "<Figure size 640x480 with 1 Axes>"
      ]
     },
     "execution_count": 106,
     "metadata": {},
     "output_type": "execute_result"
    }
   ],
   "source": [
    "# Creating a simple superposition with Qiskit\n",
    "qc = QuantumCircuit(1, 1) # 1 qubit, 1 classical bit\n",
    "qc.h(0)  # Apply Hadamard gate to create superposition\n",
    "qc.measure(0, 0)\n",
    "\n",
    "# Use text output as fallback if matplotlib visualization fails\n",
    "print(\"Circuit representation:\")\n",
    "print(qc)\n",
    "\n",
    "# Display the circuit diagram with a try-except to handle visualization issues\n",
    "try:\n",
    "    circuit_diagram = qc.draw(output='mpl')\n",
    "    circuit_diagram  # Display the diagram\n",
    "except Exception as e:\n",
    "    print(f\"Visualization error: {e}\")\n",
    "    print(\"Displaying text representation instead.\")\n",
    "    qc.draw(output='text')\n",
    "\n",
    "# Simulate the circuit\n",
    "simulator = Aer.get_backend('qasm_simulator')\n",
    "job = simulator.run(qc, shots=1000)\n",
    "result = job.result()\n",
    "counts = result.get_counts()\n",
    "\n",
    "# Plot the results\n",
    "plot_histogram(counts)"
   ]
  },
  {
   "cell_type": "markdown",
   "id": "c6dac498",
   "metadata": {},
   "source": [
    "- The code uses Qiskit's qasm_simulator backend to simulate the quantum circuit\n",
    "- The circuit is run 1000 times (shots=1000)\n",
    "- The results are collected and stored in counts\n",
    "- counts will contain the statistics of measurement outcomes - ideally showing approximately 50% |0⟩ and 50% |1⟩ states"
   ]
  },
  {
   "cell_type": "markdown",
   "id": "938316c4",
   "metadata": {},
   "source": [
    "Architecture of QuantumCircuit(1,1)"
   ]
  },
  {
   "cell_type": "markdown",
   "id": "6e65af97",
   "metadata": {},
   "source": [
    "### 2. Quantum Gates\n",
    "\n",
    "Quantum gates manipulate qubits and are the building blocks of quantum circuits. Common gates include:\n",
    "\n",
    "- **Hadamard (H)**: Creates superposition\n",
    "- **Pauli-X (X)**: Quantum equivalent of the NOT gate\n",
    "- **CNOT**: Two-qubit gate that flips the second qubit if the first qubit is in state |1⟩\n",
    "- **Phase gates (S, T)**: Add phase factors to quantum states"
   ]
  },
  {
   "cell_type": "markdown",
   "id": "44617fee",
   "metadata": {},
   "source": [
    "### 3. Quantum Entanglement\n",
    "\n",
    "Entanglement is a quantum phenomenon where multiple qubits become correlated in such a way that the quantum state of each qubit cannot be described independently of the others."
   ]
  },
  {
   "cell_type": "code",
   "execution_count": 107,
   "id": "ec530a49",
   "metadata": {},
   "outputs": [
    {
     "name": "stdout",
     "output_type": "stream",
     "text": [
      "Bell state preparation circuit:\n",
      "     ┌───┐     ┌─┐   \n",
      "q_0: ┤ H ├──■──┤M├───\n",
      "     └───┘┌─┴─┐└╥┘┌─┐\n",
      "q_1: ─────┤ X ├─╫─┤M├\n",
      "          └───┘ ║ └╥┘\n",
      "c: 2/═══════════╩══╩═\n",
      "                0  1 \n",
      "Visualization error: \"The 'pylatexenc' library is required to use 'MatplotlibDrawer'. You can install it with 'pip install pylatexenc'.\"\n",
      "Using text representation:\n",
      "     ┌───┐     ┌─┐   \n",
      "q_0: ┤ H ├──■──┤M├───\n",
      "     └───┘┌─┴─┐└╥┘┌─┐\n",
      "q_1: ─────┤ X ├─╫─┤M├\n",
      "          └───┘ ║ └╥┘\n",
      "c: 2/═══════════╩══╩═\n",
      "                0  1 \n"
     ]
    },
    {
     "data": {
      "image/png": "[encoded data removed]",
      "text/plain": [
       "<Figure size 640x480 with 1 Axes>"
      ]
     },
     "execution_count": 107,
     "metadata": {},
     "output_type": "execute_result"
    }
   ],
   "source": [
    "# Creating entanglement between two qubits\n",
    "qc_entangle = QuantumCircuit(2, 2)\n",
    "qc_entangle.h(0)  # Put qubit 0 in superposition\n",
    "qc_entangle.cx(0, 1)  # CNOT with qubit 0 as control and qubit 1 as target\n",
    "qc_entangle.measure([0, 1], [0, 1])\n",
    "\n",
    "# Print text representation first\n",
    "print(\"Bell state preparation circuit:\")\n",
    "print(qc_entangle)\n",
    "\n",
    "# Try to visualize with error handling\n",
    "try:\n",
    "    qc_entangle.draw(output='mpl')\n",
    "except Exception as e:\n",
    "    print(f\"Visualization error: {e}\")\n",
    "    print(\"Using text representation:\")\n",
    "    print(qc_entangle.draw(output='text'))\n",
    "\n",
    "# Simulate\n",
    "simulator = Aer.get_backend('qasm_simulator')\n",
    "job = simulator.run(qc_entangle, shots=1000)\n",
    "result = job.result()\n",
    "counts = result.get_counts()\n",
    "\n",
    "# Plot results - should see only |00⟩ and |11⟩ states\n",
    "plot_histogram(counts)"
   ]
  },
  {
   "cell_type": "markdown",
   "id": "7eda1084",
   "metadata": {},
   "source": [
    "## Quantum Machine Learning Algorithms\n",
    "\n",
    "Several quantum algorithms show promise for enhancing machine learning:\n",
    "\n",
    "### 1. Quantum Neural Networks (QNNs)\n",
    "\n",
    "QNNs use parameterized quantum circuits as quantum versions of neural networks, which can be trained using gradient-based optimization. A QNN typically consists of:\n",
    "\n",
    "* **Data encoding layer**: Transforms classical data into quantum states\n",
    "* **Variational layer**: A parameterized circuit that is trained (parameters are optimized)\n",
    "* **Measurement layer**: Extracts information from the quantum state as the output\n",
    "\n",
    "Unlike classical neural networks that use weights and activation functions, QNNs leverage quantum operations (gates) and quantum superposition to process information."
   ]
  },
  {
   "cell_type": "code",
   "execution_count": 108,
   "id": "65bfe8db",
   "metadata": {},
   "outputs": [
    {
     "name": "stdout",
     "output_type": "stream",
     "text": [
      "QNN output: 0.8253356149096784\n",
      "\n",
      "Quantum Neural Network Circuit:\n"
     ]
    },
    {
     "data": {
      "text/plain": [
       "'0: ──RY(0.50)──RY(0.10)─╭●─┤  <Z>\\n1: ──RY(0.10)──RY(0.20)─╰X─┤     '"
      ]
     },
     "execution_count": 108,
     "metadata": {},
     "output_type": "execute_result"
    }
   ],
   "source": [
    "# Simple Quantum Neural Network with PennyLane\n",
    "dev = qml.device(\"default.qubit\", wires=2)  # Create a simulator with 2 qubits\n",
    "\n",
    "@qml.qnode(dev)  # Convert the function into a quantum node that runs on the device\n",
    "def quantum_neural_network(params, x):\n",
    "    # DATA ENCODING LAYER\n",
    "    # Encode classical data 'x' into the quantum circuit using RY rotations\n",
    "    # RY rotates a qubit around the Y-axis of the Bloch sphere\n",
    "    qml.RY(x[0], wires=0)  # Encode first data feature into qubit 0\n",
    "    qml.RY(x[1], wires=1)  # Encode second data feature into qubit 1\n",
    "    \n",
    "    # VARIATIONAL LAYER\n",
    "    # Parameterized part of the circuit - these parameters are trainable\n",
    "    qml.RY(params[0], wires=0)  # Rotation on qubit 0\n",
    "    qml.RY(params[1], wires=1)  # Rotation on qubit 1\n",
    "    qml.CNOT(wires=[0, 1])      # Entangle the qubits - creates quantum correlations\n",
    "    \n",
    "    # MEASUREMENT LAYER\n",
    "    # Measure the expectation value of the Pauli-Z operator on qubit 0\n",
    "    # This produces a value between -1 and 1 as the output\n",
    "    return qml.expval(qml.PauliZ(0))\n",
    "\n",
    "# Initialize parameters - these would normally be optimized during training\n",
    "params = np.array([0.1, 0.2])  # Two rotation angles for the variational layer\n",
    "x = np.array([0.5, 0.1])       # Input data vector to process\n",
    "\n",
    "# Run the quantum neural network\n",
    "result = quantum_neural_network(params, x)\n",
    "print(f\"QNN output: {result}\")\n",
    "\n",
    "# Visualize the quantum circuit\n",
    "print(\"\\nQuantum Neural Network Circuit:\")\n",
    "qml.draw(quantum_neural_network)(params, x)"
   ]
  },
  {
   "cell_type": "markdown",
   "id": "7b1b5fc1",
   "metadata": {},
   "source": [
    "### Understanding the Quantum Neural Network\n",
    "\n",
    "The quantum circuit above implements a simple QNN that processes a 2D classical input vector. Here's what happens:\n",
    "\n",
    "1. **Input Encoding**: The input vector `x=[0.5, 0.1]` is encoded as rotation angles in the quantum circuit, transforming the qubits from their initial state |00⟩.\n",
    "\n",
    "2. **Quantum Processing**: The circuit applies parameterized rotations controlled by `params=[0.1, 0.2]`, which act like weights in a classical neural network. The CNOT gate creates entanglement between the qubits, allowing for non-linear processing that's unique to quantum computing.\n",
    "\n",
    "3. **Measurement**: The circuit measures the expectation value of the Pauli-Z operator on the first qubit, producing a single output value between -1 and 1.\n",
    "\n",
    "In a full QML application, we would:\n",
    "* Define a cost function based on the QNN output\n",
    "* Use classical optimization to update the parameters to minimize this cost\n",
    "* Evaluate the trained model on new data"
   ]
  },
  {
   "cell_type": "markdown",
   "id": "7b4b2837",
   "metadata": {},
   "source": [
    "### 2. Quantum Support Vector Machines (QSVM)\n",
    "\n",
    "QSVMs leverage quantum computers to calculate kernel functions more efficiently, potentially leading to faster classification. The quantum advantage comes from:\n",
    "\n",
    "* **Quantum Feature Maps**: Encoding classical data into quantum states in a high-dimensional Hilbert space\n",
    "* **Quantum Kernel Estimation**: Computing kernel functions (similarity measures) between data points using quantum circuits\n",
    "* **Exponential Dimensionality**: Accessing feature spaces of dimension 2^n using only n qubits"
   ]
  },
  {
   "cell_type": "markdown",
   "id": "85a2ffe4",
   "metadata": {},
   "source": [
    "### 3. Quantum Principal Component Analysis (QPCA)\n",
    "\n",
    "QPCA can potentially perform dimensionality reduction exponentially faster than classical PCA for certain data structures. Key advantages include:\n",
    "\n",
    "* **Quantum State Tomography**: Reconstructing the density matrix of quantum states\n",
    "* **Efficient Eigenvalue Estimation**: Using quantum phase estimation to find eigenvalues and eigenvectors\n",
    "* **Exponential Speedup**: Processing 2^n dimensional vectors using only n qubits and O(log n) operations"
   ]
  },
  {
   "cell_type": "markdown",
   "id": "be4d0687",
   "metadata": {},
   "source": [
    "### 4. Quantum Approximate Optimization Algorithm (QAOA)\n",
    "\n",
    "QAOA is a hybrid quantum-classical algorithm for solving combinatorial optimization problems, which are common in machine learning. How it works:\n",
    "\n",
    "* **Problem Encoding**: Maps optimization problems to a Hamiltonian whose ground state represents the solution\n",
    "* **Ansatz Preparation**: Creates a parameterized quantum circuit with alternating operators\n",
    "* **Classical Optimization**: Iteratively adjusts parameters to minimize the expected energy"
   ]
  },
  {
   "cell_type": "markdown",
   "id": "f12078dc",
   "metadata": {},
   "source": [
    "## Variational Quantum Circuits\n",
    "\n",
    "Variational Quantum Circuits are parameterized quantum circuits where the parameters are optimized by a classical computer to perform specific tasks. They're the foundation for many quantum machine learning models.\n",
    "\n",
    "### Key Components:\n",
    "\n",
    "* **Parameterized Gates**: Quantum operations with adjustable parameters\n",
    "* **Hybrid Optimization Loop**: Classical optimizer adjusts parameters based on quantum measurements\n",
    "* **Loss Function**: Measures how well the circuit performs on a given task\n",
    "\n",
    "Below, we implement a variational quantum classifier that learns to distinguish between different input features."
   ]
  },
  {
   "cell_type": "code",
   "execution_count": 109,
   "id": "890b2fc4",
   "metadata": {},
   "outputs": [
    {
     "name": "stdout",
     "output_type": "stream",
     "text": [
      "Classifier prediction: 0.4877483641875714\n",
      "\n",
      "Quantum Circuit Diagram:\n",
      "0: ──RX(0.20)──RY(1.22)─╭●──RY(5.08)─┤  <Z>\n",
      "1: ──RX(0.50)──RY(0.51)─╰X──RY(5.60)─┤     \n"
     ]
    }
   ],
   "source": [
    "# Implementing a simple Variational Quantum Classifier\n",
    "dev = qml.device(\"default.qubit\", wires=2)  # Create a 2-qubit simulator\n",
    "\n",
    "@qml.qnode(dev)  # Transform the function into a quantum node\n",
    "def variational_classifier(params, features):\n",
    "    # DATA ENCODING LAYER - Encode classical data as quantum states\n",
    "    qml.RX(features[0], wires=0)  # Encode feature 1 as X-rotation on qubit 0\n",
    "    qml.RX(features[1], wires=1)  # Encode feature 2 as X-rotation on qubit 1\n",
    "    \n",
    "    # VARIATIONAL LAYER 1 - First parameterized layer\n",
    "    qml.RY(params[0], wires=0)    # Y-rotation on qubit 0\n",
    "    qml.RY(params[1], wires=1)    # Y-rotation on qubit 1\n",
    "    qml.CNOT(wires=[0, 1])        # Entangle qubits 0 and 1\n",
    "    \n",
    "    # VARIATIONAL LAYER 2 - Additional parameterized layer for more expressivity\n",
    "    qml.RY(params[2], wires=0)    # Second Y-rotation on qubit 0\n",
    "    qml.RY(params[3], wires=1)    # Second Y-rotation on qubit 1\n",
    "    \n",
    "    # MEASUREMENT - The expectation value provides the classifier output\n",
    "    return qml.expval(qml.PauliZ(0))  # Measure expectation value of Z on first qubit\n",
    "\n",
    "# Initialize random parameters - in practice these would be optimized\n",
    "params = np.random.uniform(0, 2*np.pi, size=4)  # 4 rotation angles\n",
    "\n",
    "# Test sample feature vector\n",
    "features = np.array([0.2, 0.5])  # Sample input data\n",
    "\n",
    "# Execute the quantum circuit and get the prediction\n",
    "prediction = variational_classifier(params, features)\n",
    "print(f\"Classifier prediction: {prediction}\")\n",
    "\n",
    "# Visualize the quantum circuit\n",
    "print(\"\\nQuantum Circuit Diagram:\")\n",
    "print(qml.draw(variational_classifier)(params, features))\n",
    "\n",
    "# In a real application, we would include code here to:\n",
    "# 1. Define a loss function (e.g., mean squared error or binary cross-entropy)\n",
    "# 2. Optimize parameters using gradient descent to minimize the loss\n",
    "# 3. Evaluate the model on test data"
   ]
  },
  {
   "cell_type": "markdown",
   "id": "73520c48",
   "metadata": {},
   "source": [
    "## Challenges in Quantum AI\n",
    "\n",
    "Despite the promise, several challenges remain:\n",
    "\n",
    "1. **Quantum Decoherence**: Quantum states are fragile and can easily decohere due to environmental noise\n",
    "2. **Limited Qubit Counts**: Current quantum hardware has limited qubits with high error rates\n",
    "3. **Quantum-Classical Interface**: Efficiently transferring data between quantum and classical systems\n",
    "4. **Algorithm Development**: Finding problems where quantum approaches truly offer advantages\n",
    "5. **Hardware Constraints**: Physical limitations in scaling quantum hardware"
   ]
  },
  {
   "cell_type": "markdown",
   "id": "bc672ec1",
   "metadata": {},
   "source": [
    "## Practical Applications of Quantum AI\n",
    "\n",
    "Several domains may benefit from quantum AI approaches:\n",
    "\n",
    "1. **Drug Discovery**: Simulating molecular interactions for pharmaceutical research\n",
    "2. **Financial Modeling**: Portfolio optimization and risk analysis\n",
    "3. **Materials Science**: Discovering new materials with specific properties\n",
    "4. **Supply Chain Optimization**: Solving complex logistics problems\n",
    "5. **Climate Modeling**: Simulating complex climate systems"
   ]
  },
  {
   "cell_type": "markdown",
   "id": "1e27d68a",
   "metadata": {},
   "source": [
    "## Quantum Datasets and Encoding\n",
    "\n",
    "A crucial aspect of quantum machine learning is how classical data is encoded into quantum states. There are several encoding strategies, each with different properties:\n",
    "\n",
    "1. **Basis Encoding**: Represent binary strings directly as qubit basis states (|0⟩ and |1⟩)\n",
    "2. **Angle Encoding**: Use data values as rotation angles for quantum gates\n",
    "3. **Amplitude Encoding**: Encode data in the amplitudes of a quantum state\n",
    "4. **Hamiltonian Encoding**: Embed data in the parameters of a Hamiltonian\n",
    "\n",
    "Below we implement amplitude encoding, which is efficient for representing vectors:"
   ]
  },
  {
   "cell_type": "code",
   "execution_count": 110,
   "id": "b04d79da",
   "metadata": {},
   "outputs": [
    {
     "name": "stdout",
     "output_type": "stream",
     "text": [
      "Amplitude encoding circuit:\n",
      "     ┌─────────────────────────────────────────────┐\n",
      "q_0: ┤0                                            ├\n",
      "     │  Initialize(0.18257,0.36515,0.54772,0.7303) │\n",
      "q_1: ┤1                                            ├\n",
      "     └─────────────────────────────────────────────┘\n",
      "Visualization error: \"The 'pylatexenc' library is required to use 'MatplotlibDrawer'. You can install it with 'pip install pylatexenc'.\"\n",
      "Using text representation instead:\n",
      "     ┌─────────────────────────────────────────────┐\n",
      "q_0: ┤0                                            ├\n",
      "     │  Initialize(0.18257,0.36515,0.54772,0.7303) │\n",
      "q_1: ┤1                                            ├\n",
      "     └─────────────────────────────────────────────┘\n"
     ]
    }
   ],
   "source": [
    "# Amplitude encoding example - Encodes an n-dimensional vector into log₂(n) qubits\n",
    "def amplitude_encoding_circuit(data_vector):\n",
    "    # Normalize the vector - quantum states must have unit norm\n",
    "    normalized = data_vector / np.linalg.norm(data_vector)\n",
    "    \n",
    "    # Calculate required qubits - need log₂(n) qubits to represent n amplitudes\n",
    "    n_qubits = int(np.ceil(np.log2(len(normalized))))\n",
    "    \n",
    "    # Pad vector if needed - ensure dimension is 2^n\n",
    "    padding_size = 2**n_qubits - len(normalized)\n",
    "    if padding_size > 0:\n",
    "        normalized = np.pad(normalized, (0, padding_size))\n",
    "    \n",
    "    # Create circuit for state preparation\n",
    "    qc = QuantumCircuit(n_qubits)\n",
    "    \n",
    "    # Initialize the quantum state with our normalized vector\n",
    "    # This abstracts away the complex sequence of gates needed for state preparation\n",
    "    qc.initialize(normalized, range(n_qubits))\n",
    "    \n",
    "    return qc\n",
    "\n",
    "# Example with a sample vector [0.1, 0.2, 0.3, 0.4]\n",
    "# This 4D vector can be encoded in just log₂(4) = 2 qubits\n",
    "sample_data = np.array([0.1, 0.2, 0.3, 0.4])\n",
    "encoding_circuit = amplitude_encoding_circuit(sample_data)\n",
    "\n",
    "# Print text representation first\n",
    "print(\"Amplitude encoding circuit:\")\n",
    "print(encoding_circuit)\n",
    "\n",
    "# Try to visualize with fallback\n",
    "try:\n",
    "    encoding_circuit.draw(output='mpl')\n",
    "except Exception as e:\n",
    "    print(f\"Visualization error: {e}\")\n",
    "    print(\"Using text representation instead:\")\n",
    "    print(encoding_circuit.draw(output='text'))\n",
    "\n",
    "# The amplitudes of the resulting quantum state correspond to our data vector\n",
    "# State = 0.182|00⟩ + 0.364|01⟩ + 0.547|10⟩ + 0.729|11⟩ (after normalization)"
   ]
  },
  {
   "cell_type": "markdown",
   "id": "9dd24bc8",
   "metadata": {},
   "source": [
    "## Conclusion\n",
    "\n",
    "Quantum AI represents a promising frontier where quantum computing's unique capabilities may offer significant advantages for certain machine learning tasks. While still in its early stages, ongoing research and hardware development are steadily advancing the field.\n",
    "\n",
    "This notebook provides just an introduction to this complex and rapidly evolving field. For those interested in exploring further, resources such as Qiskit Textbook, PennyLane tutorials, and academic papers offer deeper insights."
   ]
  },
  {
   "cell_type": "markdown",
   "id": "55d2f29e",
   "metadata": {},
   "source": [
    "## References\n",
    "\n",
    "1. Nielsen, M. A., & Chuang, I. L. (2010). Quantum Computation and Quantum Information.\n",
    "2. Schuld, M., Sinayskiy, I., & Petruccione, F. (2015). An introduction to quantum machine learning.\n",
    "3. Biamonte, J., Wittek, P., Pancotti, N., et al. (2017). Quantum machine learning.\n",
    "4. IBM Qiskit documentation: [https://qiskit.org/](https://qiskit.org/)\n",
    "5. PennyLane documentation: [https://pennylane.ai/](https://pennylane.ai/)"
   ]
  }
 ],
 "metadata": {
  "kernelspec": {
   "display_name": "py312sb3",
   "language": "python",
   "name": "python3"
  },
  "language_info": {
   "codemirror_mode": {
    "name": "ipython",
    "version": 3
   },
   "file_extension": ".py",
   "mimetype": "text/x-python",
   "name": "python",
   "nbconvert_exporter": "python",
   "pygments_lexer": "ipython3",
   "version": "3.12.3"
  }
 },
 "nbformat": 4,
 "nbformat_minor": 5
}
